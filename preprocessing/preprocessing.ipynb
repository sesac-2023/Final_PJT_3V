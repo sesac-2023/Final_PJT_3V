{
 "cells": [
  {
   "cell_type": "code",
   "execution_count": null,
   "metadata": {},
   "outputs": [],
   "source": [
    "pip install geopy"
   ]
  },
  {
   "cell_type": "code",
   "execution_count": 2,
   "metadata": {},
   "outputs": [],
   "source": [
    "import pandas as pd\n",
    "import numpy as np\n",
    "import requests\n",
    "import json\n",
    "from geopy.geocoders import Nominatim #도로명주소를 좌표계로 변환해주는 모듈\n",
    "import geopandas as gpd\n",
    "import re"
   ]
  },
  {
   "cell_type": "markdown",
   "metadata": {},
   "source": [
    "### 행정동코드-행정동명 맵핑1\n",
    "- #### 통계청 7자리"
   ]
  },
  {
   "cell_type": "code",
   "execution_count": null,
   "metadata": {},
   "outputs": [],
   "source": [
    "dong_df=pd.read_csv('./data/서울시_행정동_코드_통계청(7자리).csv')"
   ]
  },
  {
   "cell_type": "code",
   "execution_count": null,
   "metadata": {},
   "outputs": [],
   "source": [
    "# 신사동 -> 신사동(관악구), 신사동(강남구)로 분리표기\n",
    "for i in dong_df[(dong_df['읍면동명'] == '신사동') & (dong_df['시군구명'] == '관악구')]['읍면동명'].index:\n",
    "    dong_df.at[i, '읍면동명'] = '신사동(관악구)'\n",
    "\n",
    "for i in dong_df[(dong_df['읍면동명'] == '신사동') & (dong_df['시군구명'] == '강남구')]['읍면동명'].index:\n",
    "    dong_df.at[i, '읍면동명'] = '신사동(강남구)'"
   ]
  },
  {
   "cell_type": "code",
   "execution_count": null,
   "metadata": {},
   "outputs": [],
   "source": [
    "dong_df=dong_df.rename({'시군구명':'지역구', '읍면동명':'행정동명'},axis=1)\n",
    "dong_df=dong_df[['행정동코드', '행정동명']]\n",
    "dong_df['행정동명'] = dong_df['행정동명'].str.replace('일원2동', '개포3동') #일원2동 개포3동으로 변경\n",
    "dong_df=dong_df.astype('str') #문자열로 타입변경\n",
    "dong_df['행정동코드'] = dong_df['행정동코드'].str.replace('1123074', '1123081') #일원2동 코드를 개포3동 코드로 변경"
   ]
  },
  {
   "cell_type": "code",
   "execution_count": null,
   "metadata": {},
   "outputs": [],
   "source": [
    "dong_df.to_csv('./data/서울시_행정동_코드_통계청(7자리)_수정.csv', index=False)"
   ]
  },
  {
   "cell_type": "markdown",
   "metadata": {},
   "source": [
    "### 행정동코드-행정동명 맵핑2\n",
    "- #### 행안부 8자리"
   ]
  },
  {
   "cell_type": "code",
   "execution_count": null,
   "metadata": {},
   "outputs": [],
   "source": [
    "df_dong = pd.read_csv('./data/서울시_행정동_코드_행안부(8자리).csv')"
   ]
  },
  {
   "cell_type": "code",
   "execution_count": null,
   "metadata": {},
   "outputs": [],
   "source": [
    "# 정규식을 사용하여 '동네이름'+'제'+'숫자'+'동'를 '동네이름'+'숫자'+'동'으로 변경\n",
    "df_dong['행정동명'] = df_dong['행정동명'].apply(lambda x: re.sub(r'제(\\d+)동', r'\\1동', x) if '제' in x else x)\n",
    "\n",
    "#예외 값들 별도 전처리\n",
    "# 면목제3.8동 => 면목3.8동\n",
    "df_dong['행정동명'] = df_dong['행정동명'].str.replace('면목제3.8동', '면목3.8동')"
   ]
  },
  {
   "cell_type": "code",
   "execution_count": null,
   "metadata": {},
   "outputs": [],
   "source": [
    "df_dong.to_csv('./data/서울시_행정동_코드_행안부(8자리)_수정.csv')"
   ]
  },
  {
   "cell_type": "markdown",
   "metadata": {},
   "source": [
    "### 카카오API"
   ]
  },
  {
   "cell_type": "code",
   "execution_count": null,
   "metadata": {},
   "outputs": [],
   "source": [
    "temp_df=pd.read_csv('./data/추출원하는파일.csv')"
   ]
  },
  {
   "cell_type": "code",
   "execution_count": null,
   "metadata": {},
   "outputs": [],
   "source": [
    "addr=temp_df['도로명주소']\n",
    "addr"
   ]
  },
  {
   "cell_type": "code",
   "execution_count": null,
   "metadata": {},
   "outputs": [],
   "source": [
    "locations = []\n",
    "for ad in addr:\n",
    "    url = 'https://dapi.kakao.com/v2/local/search/address.json?query={}'.format(ad)\n",
    "    headers = {\n",
    "    ## \"Authorization\": \"KakaoAK 뒤에 본인의 REST API키 입력\"\n",
    "    \"Authorization\": \"KakaoAK\"}\n",
    "    place = requests.get(url, headers = headers).json()['documents']\n",
    "    locations.append(place)"
   ]
  },
  {
   "cell_type": "markdown",
   "metadata": {},
   "source": [
    "- #### 도로명주소로 행정동명 추출"
   ]
  },
  {
   "cell_type": "code",
   "execution_count": null,
   "metadata": {},
   "outputs": [],
   "source": [
    "town = [] ## 동\n",
    "for i in range(len(locations)):\n",
    "\n",
    "    try:\n",
    "        town.append(locations[i][0].get('address').get('region_3depth_h_name'))\n",
    "\n",
    "    except IndexError:\n",
    "        print(i,'번째 주소 못가져옴', end ='')\n",
    "        print()\n",
    "        town.append('없음')\n",
    "\n",
    "    except AttributeError:\n",
    "        town.append(locations[i][0].get('road_address').get('region_3depth_h_name'))"
   ]
  },
  {
   "cell_type": "code",
   "execution_count": null,
   "metadata": {},
   "outputs": [],
   "source": [
    "#행정동 목록을 넘파이 어레이로 받기\n",
    "rct = np.array(town).T \n",
    "#행정동명을 칼럼명으로하고 위에서 받은 넘파이 어레이를 칼럼으로하는 데이터프레임 생성\n",
    "hd_name = pd.DataFrame(rct, columns = ['행정동명']) \n",
    "#기존의 데이터프레임에 행정동명 칼럼 합치기\n",
    "df=pd.concat([temp_df, hd_name], axis=1) \n",
    "df"
   ]
  },
  {
   "cell_type": "markdown",
   "metadata": {},
   "source": [
    "- #### 도로명주소로 지역구명 추출"
   ]
  },
  {
   "cell_type": "code",
   "execution_count": null,
   "metadata": {},
   "outputs": [],
   "source": [
    "region = [] ## 구\n",
    "for i in range(len(locations)):\n",
    "\n",
    "    try:\n",
    "        region.append(locations[i][0].get('address').get('region_2depth_name'))\n",
    "\n",
    "    except IndexError:\n",
    "        print(i,'번째 주소 못가져옴', end ='')\n",
    "        print()\n",
    "        region.append('없음')\n",
    "\n",
    "    except AttributeError:\n",
    "        region.append(locations[i][0].get('road_address').get('region_2depth_name'))"
   ]
  },
  {
   "cell_type": "code",
   "execution_count": null,
   "metadata": {},
   "outputs": [],
   "source": [
    "#지역구 목록을 넘파이 어레이로 받기\n",
    "rct = np.array(region).T \n",
    "#지역구명을 칼럼명으로하고 위에서 받은 넘파이 어레이를 칼럼으로하는 데이터프레임 생성\n",
    "rg_name = pd.DataFrame(rct, columns = ['행정동명']) \n",
    "#기존의 데이터프레임에 지역구명 칼럼 합치기\n",
    "df=pd.concat([temp_df, rg_name], axis=1) \n",
    "df"
   ]
  },
  {
   "cell_type": "markdown",
   "metadata": {},
   "source": [
    "---"
   ]
  },
  {
   "cell_type": "code",
   "execution_count": null,
   "metadata": {},
   "outputs": [],
   "source": [
    "addr2=temp_df['지번주소']\n",
    "addr2"
   ]
  },
  {
   "cell_type": "code",
   "execution_count": null,
   "metadata": {},
   "outputs": [],
   "source": [
    "locations = []\n",
    "for ad in addr2:\n",
    "    url = 'https://dapi.kakao.com/v2/local/search/address.json?query={}'.format(ad)\n",
    "    headers = {\n",
    "    ## \"Authorization\": \"KakaoAK 뒤에 본인의 REST API키 입력\"\n",
    "    \"Authorization\": \"KakaoAK\"}\n",
    "    place = requests.get(url, headers = headers).json()['documents']\n",
    "    locations.append(place)"
   ]
  },
  {
   "cell_type": "markdown",
   "metadata": {},
   "source": [
    "- #### 지번주소로 도로명주소 추출"
   ]
  },
  {
   "cell_type": "code",
   "execution_count": null,
   "metadata": {},
   "outputs": [],
   "source": [
    "road = [] ## 도로명주소\n",
    "for i in range(len(locations)):\n",
    "\n",
    "    try:\n",
    "        road.append(locations[i][0].get('road_address').get('address_name'))\n",
    "\n",
    "    except IndexError:\n",
    "        print(i,'번째 주소 못가져옴', end ='')\n",
    "        print()\n",
    "        road.append('없음')\n",
    "\n",
    "    except AttributeError:\n",
    "        road.append(locations[i][0].get('address').get('address_name'))"
   ]
  },
  {
   "cell_type": "code",
   "execution_count": null,
   "metadata": {},
   "outputs": [],
   "source": [
    "#도로명주소 목록을 넘파이 어레이로 받기\n",
    "rct = np.array(road).T \n",
    "#도로명주소를 칼럼명으로하고 위에서 받은 넘파이 어레이를 칼럼으로하는 데이터프레임 생성\n",
    "rd_name = pd.DataFrame(rct, columns = ['도로명주소']) \n",
    "#기존의 데이터프레임에 도로명주소 칼럼 합치기\n",
    "df=pd.concat([temp_df, rd_name], axis=1) \n",
    "df"
   ]
  },
  {
   "cell_type": "markdown",
   "metadata": {},
   "source": [
    "- #### 지번주소로 위도, 경도 추출"
   ]
  },
  {
   "cell_type": "code",
   "execution_count": null,
   "metadata": {},
   "outputs": [],
   "source": [
    "lat = [] ## 위도\n",
    "lo = [] ## 경도\n",
    "for i in range(len(locations)):\n",
    "    try:\n",
    "        lat.append(locations[i][0].get('y'))\n",
    "        lo.append(locations[i][0].get('x'))\n",
    "\n",
    "    except IndexError:\n",
    "        print(i,'번째 주소 못가져옴', end ='')\n",
    "        print()\n",
    "        lat.append('없음')\n",
    "        lo.append('없음')\n",
    "\n",
    "    except AttributeError:\n",
    "        lat.append(locations[i][0].get('x'))\n",
    "        lo.append(locations[i][0].get('y'))"
   ]
  },
  {
   "cell_type": "code",
   "execution_count": null,
   "metadata": {},
   "outputs": [],
   "source": [
    "rct = np.array([lat,lo]).T\n",
    "latlo = pd.DataFrame(rct, columns = ['위도', '경도'])\n",
    "df=pd.concat([df, latlo], axis=1)\n",
    "df"
   ]
  },
  {
   "cell_type": "markdown",
   "metadata": {},
   "source": [
    "- #### 좌표로 행정동과 지역구 추출"
   ]
  },
  {
   "cell_type": "code",
   "execution_count": null,
   "metadata": {},
   "outputs": [],
   "source": [
    "locations = []\n",
    "for lo,la in zip(x,y):\n",
    "    #좌표를 불러와서 주소 가져오기\n",
    "    url = 'https://dapi.kakao.com/v2/local/geo/coord2regioncode.json?x={}&y={}'.format(lo, la) \n",
    "    headers = {\n",
    "    ## \"Authorization\": \"KakaoAK 뒤에 본인의 REST API 키입력\"\n",
    "    \"Authorization\": \"KakaoAK\"}\n",
    "    place = requests.get(url, headers = headers).json()['documents']\n",
    "    locations.append(place)"
   ]
  },
  {
   "cell_type": "code",
   "execution_count": null,
   "metadata": {},
   "outputs": [],
   "source": [
    "region = [] ## 구\n",
    "town = [] ## 동\n",
    "for i in range(len(locations)):\n",
    "\n",
    "    try:\n",
    "        town.append(locations[i][1].get('region_3depth_name'))\n",
    "        region.append(locations[i][0].get('region_2depth_name'))\n",
    "\n",
    "    except IndexError:\n",
    "        print(i,'번째 주소 못가져옴', end ='')\n",
    "        print()\n",
    "        town.append('없음')\n",
    "        region.append('없음')\n",
    "\n",
    "    except AttributeError:\n",
    "        town.append(locations[i][1].get('region_3depth_name'))\n",
    "        region.append(locations[i][0].get('road_address').get('region_2depth_name'))"
   ]
  },
  {
   "cell_type": "markdown",
   "metadata": {},
   "source": [
    "### 전처리"
   ]
  },
  {
   "cell_type": "markdown",
   "metadata": {},
   "source": [
    "- #### 채소가게 전처리"
   ]
  },
  {
   "cell_type": "code",
   "execution_count": null,
   "metadata": {},
   "outputs": [],
   "source": [
    "store_df = pd.read_csv('./data/소상공인시장진흥공단_상가(상권)정보_서울_202306.csv')"
   ]
  },
  {
   "cell_type": "code",
   "execution_count": null,
   "metadata": {},
   "outputs": [],
   "source": [
    "store_df = store_df[store_df['상권업종소분류코드']=='G20506'] #채소가게만 분류\n",
    "store_df.reset_index(inplace=True) #인덱스 재정렬\n",
    "store_df = store_df[['상호명','시도명', '시군구명', '행정동명']] #필요칼럼만 받아오기"
   ]
  },
  {
   "cell_type": "code",
   "execution_count": null,
   "metadata": {},
   "outputs": [],
   "source": [
    "# 신사동 -> 신사동(관악구), 신사동(강남구)로 분리표기\n",
    "for i in store_df[(store_df['행정동명'] == '신사동') & (store_df['시군구명'] == '관악구')]['행정동명'].index:\n",
    "    store_df.at[i, '행정동명'] = '신사동(관악구)' \n",
    "\n",
    "for i in store_df[(store_df['행정동명'] == '신사동') & (store_df['시군구명'] == '강남구')]['행정동명'].index:\n",
    "    store_df.at[i, '행정동명'] = '신사동(강남구)'"
   ]
  },
  {
   "cell_type": "code",
   "execution_count": null,
   "metadata": {},
   "outputs": [],
   "source": [
    "store_count_df = store_df.groupby('행정동명')['상호명'].count().to_frame() #행정동별로 채소가게수 카운트\n",
    "store_count_df = store_count_df.rename(columns={'상호명':'채소가게수'})\n",
    "store_count_df.to_csv('./data/상가_행정동_count.csv')"
   ]
  },
  {
   "cell_type": "markdown",
   "metadata": {},
   "source": [
    "- #### 제로웨이스트 전처리"
   ]
  },
  {
   "cell_type": "code",
   "execution_count": null,
   "metadata": {},
   "outputs": [],
   "source": [
    "F1 = './data/zero.shp' \n",
    "zero = gpd.read_file(F1, encoding='cp949')"
   ]
  },
  {
   "cell_type": "code",
   "execution_count": null,
   "metadata": {},
   "outputs": [],
   "source": [
    "zero.to_csv('./data/제로웨이스트.csv')"
   ]
  },
  {
   "cell_type": "markdown",
   "metadata": {},
   "source": [
    "카카오API로 행정동명 추출과정 진행"
   ]
  },
  {
   "cell_type": "code",
   "execution_count": null,
   "metadata": {},
   "outputs": [],
   "source": [
    "zero.to_csv('./data/서울시_제로웨이스트_행정동_위치정보.csv', index=False)"
   ]
  },
  {
   "cell_type": "code",
   "execution_count": null,
   "metadata": {},
   "outputs": [],
   "source": [
    "zero = zero.groupby('행정동')['상호명'].count().to_frame()"
   ]
  },
  {
   "cell_type": "code",
   "execution_count": null,
   "metadata": {},
   "outputs": [],
   "source": [
    "zero = zero.rename(columns={'상호명':'제로웨이스트 가게수'})"
   ]
  },
  {
   "cell_type": "code",
   "execution_count": null,
   "metadata": {},
   "outputs": [],
   "source": [
    "zero.to_csv('./data/제로웨이스트 가게수.csv')"
   ]
  },
  {
   "cell_type": "markdown",
   "metadata": {},
   "source": [
    "- #### 유치원 전처리"
   ]
  },
  {
   "cell_type": "code",
   "execution_count": null,
   "metadata": {},
   "outputs": [],
   "source": [
    "kinder_df=pd.read_csv('./data/서울시 유치원 건물정보.csv', encoding='utf-8') #유치원 데이터프레임 불러오기"
   ]
  },
  {
   "cell_type": "code",
   "execution_count": null,
   "metadata": {},
   "outputs": [],
   "source": [
    "geo_local = Nominatim(user_agent='chiricuto')\n",
    "\n",
    "def geocoding(address): #위도, 경도 변환 함수\n",
    "    try:\n",
    "        geo = geo_local.geocode(address)\n",
    "        x_y = [str(geo.latitude), str(geo.longitude)]\n",
    "        return x_y\n",
    "\n",
    "    except:\n",
    "        return [0,0]"
   ]
  },
  {
   "cell_type": "code",
   "execution_count": null,
   "metadata": {},
   "outputs": [],
   "source": [
    "addr = kinder_df['주소'] #유치원 도로명 주소"
   ]
  },
  {
   "cell_type": "code",
   "execution_count": null,
   "metadata": {},
   "outputs": [],
   "source": [
    "latitude = []\n",
    "longitude =[]\n",
    "\n",
    "for i in addr: #한 번에 돌리면 시간이 너무 오래 걸려서 슬라이싱으로 적당히 나눠서 수행(ex. [:30], [30:60],...)\n",
    "    latitude.append(geocoding(i)[0]) #유치원 위도 리스트 생성\n",
    "    longitude.append(geocoding(i)[1]) #유치원 경도 리스트 생성"
   ]
  },
  {
   "cell_type": "code",
   "execution_count": null,
   "metadata": {},
   "outputs": [],
   "source": [
    "kinder_df.insert(11,'위도', latitude) #유치원 데이터프레임에 위도 칼럼 만들고 위도 리스트 삽입\n",
    "kinder_df.insert(12,'경도', longitude) #유치원 데이터프레임에 경도 칼럼 만들고 경도 리스트 삽입"
   ]
  },
  {
   "cell_type": "code",
   "execution_count": null,
   "metadata": {},
   "outputs": [],
   "source": [
    "kinder_df.to_csv('./data/서울시 유치원 건물정보_위치포함.csv', index=False) #유치원 위치정보 데이터프레임 생성"
   ]
  },
  {
   "cell_type": "code",
   "execution_count": null,
   "metadata": {},
   "outputs": [],
   "source": [
    "kinder_df=pd.read_csv('./data/서울시 유치원 건물정보_위치포함.csv', encoding='utf-8')"
   ]
  },
  {
   "cell_type": "code",
   "execution_count": null,
   "metadata": {},
   "outputs": [],
   "source": [
    "addr=kinder_df['주소']"
   ]
  },
  {
   "cell_type": "markdown",
   "metadata": {},
   "source": [
    "카카오 API로 지역구, 행정동 추출 진행"
   ]
  },
  {
   "cell_type": "code",
   "execution_count": null,
   "metadata": {},
   "outputs": [],
   "source": [
    "# 신사동 -> 신사동(관악구), 신사동(강남구)로 분리표기\n",
    "for i in kinder_df[(kinder_df['행정동명'] == '신사동') & (kinder_df['시군구명'] == '관악구')]['행정동명'].index:\n",
    "    kinder_df.at[i, '행정동명'] = '신사동(관악구)'\n",
    "\n",
    "for i in kinder_df[(kinder_df['행정동명'] == '신사동') & (kinder_df['시군구명'] == '강남구')]['행정동명'].index:\n",
    "    kinder_df.at[i, '행정동명'] = '신사동(강남구)'"
   ]
  },
  {
   "cell_type": "code",
   "execution_count": null,
   "metadata": {},
   "outputs": [],
   "source": [
    "kinder_df = kinder_df[['유치원명', '주소', '행정동', '위도', '경도']]"
   ]
  },
  {
   "cell_type": "code",
   "execution_count": null,
   "metadata": {},
   "outputs": [],
   "source": [
    "kinder_df=kinder_df[~(kinder_df['행정동'] == '없음')] #결측치 제거"
   ]
  },
  {
   "cell_type": "code",
   "execution_count": null,
   "metadata": {},
   "outputs": [],
   "source": [
    "kinder_df.to_csv('./data/서울시_유치원_행정동_위치정보.csv', index=False)"
   ]
  },
  {
   "cell_type": "code",
   "execution_count": null,
   "metadata": {},
   "outputs": [],
   "source": [
    "g_df=kinder_df.groupby('행정동')['유치원명'].count()"
   ]
  },
  {
   "cell_type": "code",
   "execution_count": null,
   "metadata": {},
   "outputs": [],
   "source": [
    "g_df = g_df.rename(columns={'유치원명':'유치원수'})"
   ]
  },
  {
   "cell_type": "code",
   "execution_count": null,
   "metadata": {},
   "outputs": [],
   "source": [
    "g_df.to_csv('./data/유치원수.csv')"
   ]
  },
  {
   "cell_type": "markdown",
   "metadata": {},
   "source": [
    "- #### 환경 전처리1\n",
    "    -  공원 데이터"
   ]
  },
  {
   "cell_type": "code",
   "execution_count": null,
   "metadata": {},
   "outputs": [],
   "source": [
    "filename1 = '산림빅데이터플랫폼_공원데이터.csv'\n",
    "filepath1 = f'./data/{filename1}'\n",
    "\n",
    "df_park = pd.read_csv(filepath1,encoding='cp949')"
   ]
  },
  {
   "cell_type": "code",
   "execution_count": null,
   "metadata": {},
   "outputs": [],
   "source": [
    "df_park.rename(columns={'adzn_id':'행정구역코드_공원',\n",
    "                        'adzn_nm':'행정동명',\n",
    "                        'adzn_area':'행정구역면적',\n",
    "                        'park_cnt':'공원수',\n",
    "                        'park_rt':'공원율'},inplace=True)"
   ]
  },
  {
   "cell_type": "code",
   "execution_count": null,
   "metadata": {},
   "outputs": [],
   "source": [
    "# 정규식을 사용하여 '동네이름'+'제'+'숫자'+'동'를 '동네이름'+'숫자'+'동'으로 변경\n",
    "df_park['행정동명'] = df_park['행정동명'].apply(lambda x: re.sub(r'제(\\d+)동', r'\\1동', x) if '제' in x else x)\n",
    "\n",
    "#예외 값들 별도 전처리\n",
    "# 면목제3.8동 => 면목3.8동\n",
    "df_park['행정동명'] = df_park['행정동명'].str.replace('면목제3.8동', '면목3.8동')"
   ]
  },
  {
   "cell_type": "code",
   "execution_count": null,
   "metadata": {},
   "outputs": [],
   "source": [
    "df_park.to_csv('행정동_환경_공원.csv') "
   ]
  },
  {
   "cell_type": "markdown",
   "metadata": {},
   "source": [
    "- #### 환경 전처리2\n",
    "    -  미세먼지 데이터"
   ]
  },
  {
   "cell_type": "code",
   "execution_count": null,
   "metadata": {},
   "outputs": [],
   "source": [
    "filename2 = '거주인구_정보_(+환경지수)_211203.csv'\n",
    "filepath2 = f'./data/{filename2}'\n",
    "\n",
    "df_air = pd.read_csv(filepath2,encoding='cp949')"
   ]
  },
  {
   "cell_type": "code",
   "execution_count": null,
   "metadata": {},
   "outputs": [],
   "source": [
    "df_air = df_air.loc[:424]"
   ]
  },
  {
   "cell_type": "code",
   "execution_count": null,
   "metadata": {},
   "outputs": [],
   "source": [
    "df_air.rename(columns={'adstrd_cd':'행정동코드','adstrd_nm':'행정동명','frglty_psn_co':'취약자수','frglty_psn_pctl':'거주인구대비취약자백분위수','fnds_ix':'미세먼지지수','fnds_pctl':'미세먼지백분위'},inplace=True)"
   ]
  },
  {
   "cell_type": "code",
   "execution_count": null,
   "metadata": {},
   "outputs": [],
   "source": [
    "df_air = df_air[['행정동코드','행정동명','취약자수','거주인구대비취약자백분위수','미세먼지지수','미세먼지백분위']]"
   ]
  },
  {
   "cell_type": "code",
   "execution_count": null,
   "metadata": {},
   "outputs": [],
   "source": [
    "df_dong7 = pd.read_csv('./data/서울시_행정동_코드_통계청(7자리)_수정.csv')"
   ]
  },
  {
   "cell_type": "code",
   "execution_count": null,
   "metadata": {},
   "outputs": [],
   "source": [
    "df_dong7.rename(columns={'행정동코드':'행정동코드7'},inplace=True)"
   ]
  },
  {
   "cell_type": "code",
   "execution_count": null,
   "metadata": {},
   "outputs": [],
   "source": [
    "df_air_sample = df_air.merge(df_dong7, on=['행정동명'], how='outer')"
   ]
  },
  {
   "cell_type": "code",
   "execution_count": null,
   "metadata": {},
   "outputs": [],
   "source": [
    "# \"행정동명\"이 \"상일1동\" 또는 \"상일2동\"인 행의 결측치를 \"상일동\" 행의 값으로 대체\n",
    "\n",
    "df_air_sample.loc[df_air_sample['행정동명'].isin(['상일1동', '상일2동']), ['행정동코드', '취약자수', '거주인구대비취약자백분위수', '미세먼지지수', '미세먼지백분위']] = \\\n",
    "df_air_sample[df_air_sample['행정동명'] == '상일동'][['행정동코드', '취약자수', '거주인구대비취약자백분위수', '미세먼지지수', '미세먼지백분위']].values[0]\n"
   ]
  },
  {
   "cell_type": "code",
   "execution_count": null,
   "metadata": {},
   "outputs": [],
   "source": [
    "df_air_sample.dropna(inplace=True)"
   ]
  },
  {
   "cell_type": "code",
   "execution_count": null,
   "metadata": {},
   "outputs": [],
   "source": [
    "df_air_sample.reset_index(drop=True, inplace=True)"
   ]
  },
  {
   "cell_type": "code",
   "execution_count": null,
   "metadata": {},
   "outputs": [],
   "source": [
    "df_air_sample.rename(columns={'행정동코드':'행정동코드_미세먼지'},inplace=True)\n",
    "df_air_sample = df_air_sample[['행정동코드_미세먼지','행정동명','취약자수','거주인구대비취약자백분위수','미세먼지지수','미세먼지백분위','행정동코드7']]"
   ]
  },
  {
   "cell_type": "code",
   "execution_count": null,
   "metadata": {},
   "outputs": [],
   "source": [
    "df_air_sample.to_csv('맵핑_행정동_환경_미세먼지.csv')"
   ]
  },
  {
   "cell_type": "markdown",
   "metadata": {},
   "source": [
    "- #### 환경 전처리3\n",
    "    -  데이터 병합"
   ]
  },
  {
   "cell_type": "code",
   "execution_count": null,
   "metadata": {},
   "outputs": [],
   "source": [
    "df_air_park = df_air_sample.merge(df_park[['행정구역코드_공원','행정동명','행정구역면적','공원수','공원율']], on=['행정동명'], how='outer')"
   ]
  },
  {
   "cell_type": "code",
   "execution_count": null,
   "metadata": {},
   "outputs": [],
   "source": [
    "df_air_park.to_excel('전처리_행정동_미세먼지_공원.xlsx') "
   ]
  },
  {
   "cell_type": "markdown",
   "metadata": {},
   "source": [
    "엑셀로 전처리 진행"
   ]
  },
  {
   "cell_type": "code",
   "execution_count": null,
   "metadata": {},
   "outputs": [],
   "source": [
    "df_dong_air_park = pd.read_excel('전처리_행정동_미세먼지_공원.xlsx')\n",
    "df_dong_air_park.rename(columns={'취약자수':'거주인구대비취약자수'},inplace=True)"
   ]
  },
  {
   "cell_type": "code",
   "execution_count": null,
   "metadata": {},
   "outputs": [],
   "source": [
    "df_dong_air_park = df_dong_air_park[['행정동명','시군구명','거주인구대비취약자수','거주인구대비취약자백분위수','미세먼지지수','미세먼지백분위','행정구역면적','공원수','공원율']]"
   ]
  },
  {
   "cell_type": "code",
   "execution_count": null,
   "metadata": {},
   "outputs": [],
   "source": [
    "df_dong_air_park.to_csv('./data/환경_미세먼지_공원.csv')"
   ]
  },
  {
   "cell_type": "markdown",
   "metadata": {},
   "source": [
    "- #### 도시농업 전처리"
   ]
  },
  {
   "cell_type": "markdown",
   "metadata": {},
   "source": [
    "카카오API로 도로명주소를 통해 행정동 가져와서 기존 데이터프레임에 병합해 csv파일로 저장"
   ]
  },
  {
   "cell_type": "code",
   "execution_count": null,
   "metadata": {},
   "outputs": [],
   "source": [
    "data = pd.read_csv('./data/서울시_도시농업_행정동_위치정보.csv')"
   ]
  },
  {
   "cell_type": "code",
   "execution_count": null,
   "metadata": {},
   "outputs": [],
   "source": [
    "# 도로명 주소에 서울이 포함된 경우만 남기기\n",
    "data = data[data['도로명주소'].str.contains('서울')]\n",
    "data.rename(columns={'행정동':'행정동명'}, inplace=True)"
   ]
  },
  {
   "cell_type": "code",
   "execution_count": null,
   "metadata": {},
   "outputs": [],
   "source": [
    "# 세분화된 과정명 구분없이 프로그램 수로 카운트\n",
    "program_data = data.copy()\n",
    "program_data = program_data.groupby('행정동명').size().to_frame()\n",
    "program_data.rename(columns={program_data.columns[0]: '도시농업(프로그램수)'}, inplace=True)"
   ]
  },
  {
   "cell_type": "code",
   "execution_count": null,
   "metadata": {},
   "outputs": [],
   "source": [
    "# 도로명 주소로 중복된 값은 삭제하고 시설 수로 카운트 (도로명 주소가 동일한지만 양식이 다른 경우, 정확한 결과가 도출되지 않음)\n",
    "filtered_program_data = data.copy()\n",
    "filtered_program_data = filtered_program_data.drop_duplicates(subset='도로명주소')\n",
    "filtered_program_data = filtered_program_data.groupby('행정동명').size().to_frame()\n",
    "filtered_program_data.rename(columns={filtered_program_data.columns[0]: '도시농업(시설수)'}, inplace=True)"
   ]
  },
  {
   "cell_type": "code",
   "execution_count": null,
   "metadata": {},
   "outputs": [],
   "source": [
    "# 행정동별 도시농업 프로그램수와 시설수 데이터를 합친 뒤, csv로 내보내기\n",
    "merged_data = pd.concat([program_data, filtered_program_data], axis=1)\n",
    "merged_data.to_csv('./data/행정동도시농업.csv')"
   ]
  },
  {
   "cell_type": "markdown",
   "metadata": {},
   "source": [
    "- #### 초등학교 전처리"
   ]
  },
  {
   "cell_type": "code",
   "execution_count": null,
   "metadata": {},
   "outputs": [],
   "source": [
    "elementary_df=pd.read_csv('./data/서울시 초등학교 기본정보.csv', encoding='cp949') #초등학교 데이터프레임 불러오기"
   ]
  },
  {
   "cell_type": "code",
   "execution_count": null,
   "metadata": {},
   "outputs": [],
   "source": [
    "addr2 = elementary_df['도로명주소'] #초등학교 도로명 주소"
   ]
  },
  {
   "cell_type": "code",
   "execution_count": null,
   "metadata": {},
   "outputs": [],
   "source": [
    "latitude2 = []\n",
    "longitude2 =[]\n",
    "\n",
    "for i in addr2[ : ]: #한 번에 돌리면 시간이 너무 오래 걸려서 슬라이싱으로 적당히 나눠서 수행(ex. [:30], [30:60],...)\n",
    "    latitude2.append(geocoding(i)[0]) #초등학교 위도 리스트 생성\n",
    "    longitude2.append(geocoding(i)[1]) #초등학교 경도 리스트 생성"
   ]
  },
  {
   "cell_type": "code",
   "execution_count": null,
   "metadata": {},
   "outputs": [],
   "source": [
    "elementary_df.insert(9,'위도', latitude2) #초등학교 데이터프레임에 위도 칼럼 만들고 위도 리스트 삽입\n",
    "elementary_df.insert(10,'경도', longitude2) #초등학교 데이터프레임에 경도 칼럼 만들고 경도 리스트 삽입"
   ]
  },
  {
   "cell_type": "code",
   "execution_count": null,
   "metadata": {},
   "outputs": [],
   "source": [
    "elementary_df.to_csv('./data/서울시 초등학교 기본정보_위치포함.csv', index=False) #초등학교 위치정보 데이터프레임 생성"
   ]
  },
  {
   "cell_type": "markdown",
   "metadata": {},
   "source": [
    "카카오 API로 지역구, 행정동 추출과정을 거침"
   ]
  },
  {
   "cell_type": "code",
   "execution_count": null,
   "metadata": {},
   "outputs": [],
   "source": [
    "# 신사동 -> 신사동(관악구), 신사동(강남구)로 분리표기\n",
    "for i in elementary_df[(elementary_df['행정동명'] == '신사동') & (elementary_df['시군구명'] == '관악구')]['행정동명'].index:\n",
    "    elementary_df.at[i, '행정동명'] = '신사동(관악구)'\n",
    "\n",
    "for i in elementary_df[(elementary_df['행정동명'] == '신사동') & (elementary_df['시군구명'] == '강남구')]['행정동명'].index:\n",
    "    elementary_df.at[i, '행정동명'] = '신사동(강남구)'"
   ]
  },
  {
   "cell_type": "code",
   "execution_count": null,
   "metadata": {},
   "outputs": [],
   "source": [
    "elementary_df = elementary_df[['학교명', '주소', '행정동', '위도', '경도']]"
   ]
  },
  {
   "cell_type": "code",
   "execution_count": null,
   "metadata": {},
   "outputs": [],
   "source": [
    "elementary_df.to_csv('./data/서울시_초등학교_행정동_위치정보.csv', index=False)"
   ]
  },
  {
   "cell_type": "code",
   "execution_count": null,
   "metadata": {},
   "outputs": [],
   "source": [
    "g_df=elementary_df.groupby('행정동')['학교명'].count()"
   ]
  },
  {
   "cell_type": "code",
   "execution_count": null,
   "metadata": {},
   "outputs": [],
   "source": [
    "g_df = g_df.rename(columns={'학교명':'초등학교수'})"
   ]
  },
  {
   "cell_type": "code",
   "execution_count": null,
   "metadata": {},
   "outputs": [],
   "source": [
    "g_df.to_csv('./data/초등학교수.csv')"
   ]
  },
  {
   "cell_type": "markdown",
   "metadata": {},
   "source": [
    "- #### 사업체 전처리 : 엑셀로 전처리 진행후 csv파일로 저장"
   ]
  },
  {
   "cell_type": "code",
   "execution_count": null,
   "metadata": {},
   "outputs": [],
   "source": [
    "df = pd.read_excel('./data/서울시_사업체현황_행정동별.xlsx')\n",
    "df=df.rename(columns={'행정구':'지역구'})"
   ]
  },
  {
   "cell_type": "code",
   "execution_count": null,
   "metadata": {},
   "outputs": [],
   "source": [
    "df.to_csv('./data/서울시_사업체현황_행정동별.csv')"
   ]
  },
  {
   "cell_type": "markdown",
   "metadata": {},
   "source": [
    "- #### 채식식당 전처리"
   ]
  },
  {
   "cell_type": "code",
   "execution_count": null,
   "metadata": {},
   "outputs": [],
   "source": [
    "with open (\"./data/채식식당.geojson\", \"r\") as f:\n",
    "    data = json.load(f)"
   ]
  },
  {
   "cell_type": "code",
   "execution_count": null,
   "metadata": {},
   "outputs": [],
   "source": [
    "df = pd.DataFrame(data['features'])"
   ]
  },
  {
   "cell_type": "code",
   "execution_count": null,
   "metadata": {},
   "outputs": [],
   "source": [
    "CONTENTS_NAME = []\n",
    "ADDR_OLD = []\n",
    "ADDR_NEW = []\n",
    "\n",
    "for d in df['properties']:\n",
    "   CONTENTS_NAME.append(d['CONTENTS_NAME'])\n",
    "   ADDR_OLD.append(d['ADDR_OLD'])\n",
    "   ADDR_NEW.append(d['ADDR_NEW'])"
   ]
  },
  {
   "cell_type": "code",
   "execution_count": null,
   "metadata": {},
   "outputs": [],
   "source": [
    "df = pd.DataFrame({\"CONTENTS_NAME\":CONTENTS_NAME, \"ADDR_OLD\":ADDR_OLD, \"ADDR_NEW\":ADDR_NEW})"
   ]
  },
  {
   "cell_type": "code",
   "execution_count": null,
   "metadata": {},
   "outputs": [],
   "source": [
    "df.to_csv('./data/채식식당.csv', index=False)"
   ]
  },
  {
   "cell_type": "markdown",
   "metadata": {},
   "source": [
    "카카오 API로 행정동과 지역구 추출하여 신사동 신사동(강남구)와 신사동(관악구)로 분리표기 작업 진행"
   ]
  },
  {
   "cell_type": "code",
   "execution_count": null,
   "metadata": {},
   "outputs": [],
   "source": [
    "df #상호명, 도로명주소, 행정동만 남긴 데이터프레임"
   ]
  },
  {
   "cell_type": "code",
   "execution_count": null,
   "metadata": {},
   "outputs": [],
   "source": [
    "g_df=df.groupby('행정동')['상호명'].count()"
   ]
  },
  {
   "cell_type": "code",
   "execution_count": null,
   "metadata": {},
   "outputs": [],
   "source": [
    "g_df = g_df.rename(columns={'상호명':'채식식당수'})"
   ]
  },
  {
   "cell_type": "code",
   "execution_count": null,
   "metadata": {},
   "outputs": [],
   "source": [
    "g_df.to_csv('./data/채식식당수.csv')"
   ]
  },
  {
   "cell_type": "markdown",
   "metadata": {},
   "source": [
    "- #### 카페 전처리"
   ]
  },
  {
   "cell_type": "code",
   "execution_count": null,
   "metadata": {},
   "outputs": [],
   "source": [
    "from pandas.io.json import json_normalize\n",
    "\n",
    "with open('./data/서울시 휴게음식점 인허가 정보.json') as f:\n",
    "    d= json.load(f)"
   ]
  },
  {
   "cell_type": "code",
   "execution_count": null,
   "metadata": {},
   "outputs": [],
   "source": [
    "df = json_normalize(d, 'DATA')"
   ]
  },
  {
   "cell_type": "code",
   "execution_count": null,
   "metadata": {},
   "outputs": [],
   "source": [
    "df=df[df['dtlstatenm']=='영업'] #영업점만 남기기\n",
    "df=df[(df['uptaenm']=='커피숍')|(df['uptaenm']=='기타 휴게음식점')|(df['uptaenm']=='키즈카페')] #최대한 카페만 가져오기 위한 항목들만 선택\n",
    "df=df[~(df['bplcnm'].str.contains('스타벅스'))] #직영점비율이 높은 별다방 제외\n",
    "df=df.reset_index(drop=True) #인덱스 재정렬"
   ]
  },
  {
   "cell_type": "code",
   "execution_count": null,
   "metadata": {},
   "outputs": [],
   "source": [
    "df=df[['bplcnm','rdnwhladdr']] #상호명과 도로명주소칼럼만 가져옴\n",
    "df['수정주소'] = df['rdnwhladdr'] #위도 경도를 구하기 위해 정제된 도로명주소 칼럼을 별도로 생성\n",
    "df=df.astype({'수정주소':'str'}) #수정주소 타입을 문자열로 변경"
   ]
  },
  {
   "cell_type": "code",
   "execution_count": null,
   "metadata": {},
   "outputs": [],
   "source": [
    "df['rdnwhladdr'].replace('', np.nan, inplace=True) #도로명주소 빈 값 nan값으로 대체\n",
    "df.dropna(subset=['rdnwhladdr'], inplace=True) #결측치 삭제"
   ]
  },
  {
   "cell_type": "code",
   "execution_count": null,
   "metadata": {},
   "outputs": [],
   "source": [
    "df=df.reset_index(drop=True) #인덱스 재정렬"
   ]
  },
  {
   "cell_type": "code",
   "execution_count": null,
   "metadata": {},
   "outputs": [],
   "source": [
    "addr = df['수정주소']\n",
    "for i in range(len(addr)):\n",
    "    a = addr[i].split(',')\n",
    "    addr[i] = a[0] #콤마 뒤 부속주소 삭제\n",
    "print(addr)"
   ]
  },
  {
   "cell_type": "code",
   "execution_count": null,
   "metadata": {},
   "outputs": [],
   "source": [
    "for i in range(len(addr)):\n",
    "    a = addr[i].split('(')\n",
    "    addr[i] = a[0] #추가로 남은 괄호 뒷부분 삭제\n",
    "print(addr)"
   ]
  },
  {
   "cell_type": "code",
   "execution_count": null,
   "metadata": {},
   "outputs": [],
   "source": [
    "from tqdm import tqdm"
   ]
  },
  {
   "cell_type": "code",
   "execution_count": null,
   "metadata": {},
   "outputs": [],
   "source": [
    "locations = []\n",
    "for ad in tqdm(addr[:7000]):\n",
    "    url = 'https://dapi.kakao.com/v2/local/search/address.json?query={}'.format(ad)\n",
    "    headers = {\n",
    "    ## \"Authorization\": \"KakaoAK 뒤에 본인의 REST API키 입력\"\n",
    "    \"Authorization\": \"KakaoAK\"}\n",
    "    place = requests.get(url, headers = headers).json()['documents']\n",
    "    locations.append(place)"
   ]
  },
  {
   "cell_type": "code",
   "execution_count": null,
   "metadata": {},
   "outputs": [],
   "source": [
    "file_path = \"./data/cafe.start_7000.json\"\n",
    "# Write the list to a JSON file\n",
    "with open(file_path, \"w\") as json_file:\n",
    "    json.dump(locations, json_file)\n",
    "print(f\"list -> json 파일로 내보내기 완료 {file_path}\")"
   ]
  },
  {
   "cell_type": "code",
   "execution_count": null,
   "metadata": {},
   "outputs": [],
   "source": [
    "locations = []\n",
    "for ad in tqdm(addr[7000:10000]):\n",
    "    url = 'https://dapi.kakao.com/v2/local/search/address.json?query={}'.format(ad)\n",
    "    headers = {\n",
    "    ## \"Authorization\": \"KakaoAK 뒤에 본인의 REST API키 입력\"\n",
    "    \"Authorization\": \"KakaoAK\"}\n",
    "    place = requests.get(url, headers = headers).json()['documents']\n",
    "    locations.append(place)"
   ]
  },
  {
   "cell_type": "code",
   "execution_count": null,
   "metadata": {},
   "outputs": [],
   "source": [
    "file_path = \"./data/cafe.7000_10000.json\"\n",
    "# Write the list to a JSON file\n",
    "with open(file_path, \"w\") as json_file:\n",
    "    json.dump(locations, json_file)\n",
    "print(f\"list -> json 파일로 내보내기 완료 {file_path}\")"
   ]
  },
  {
   "cell_type": "code",
   "execution_count": null,
   "metadata": {},
   "outputs": [],
   "source": [
    "locations = []\n",
    "for ad in tqdm(addr[10000:15000]):\n",
    "    url = 'https://dapi.kakao.com/v2/local/search/address.json?query={}'.format(ad)\n",
    "    headers = {\n",
    "    ## \"Authorization\": \"KakaoAK 뒤에 본인의 REST API키 입력\"\n",
    "    \"Authorization\": \"KakaoAK\"}\n",
    "    place = requests.get(url, headers = headers).json()['documents']\n",
    "    locations.append(place)"
   ]
  },
  {
   "cell_type": "code",
   "execution_count": null,
   "metadata": {},
   "outputs": [],
   "source": [
    "file_path = \"./data/cafe.10000_15000.json\"\n",
    "# Write the list to a JSON file\n",
    "with open(file_path, \"w\") as json_file:\n",
    "    json.dump(locations, json_file)\n",
    "print(f\"list -> json 파일로 내보내기 완료 {file_path}\")"
   ]
  },
  {
   "cell_type": "code",
   "execution_count": null,
   "metadata": {},
   "outputs": [],
   "source": [
    "locations = []\n",
    "for ad in tqdm(addr[15000:22265]):\n",
    "    url = 'https://dapi.kakao.com/v2/local/search/address.json?query={}'.format(ad)\n",
    "    headers = {\n",
    "    ## \"Authorization\": \"KakaoAK 뒤에 본인의 REST API키 입력\"\n",
    "    \"Authorization\": \"KakaoAK\"}\n",
    "    place = requests.get(url, headers = headers).json()['documents']\n",
    "    locations.append(place)"
   ]
  },
  {
   "cell_type": "code",
   "execution_count": null,
   "metadata": {},
   "outputs": [],
   "source": [
    "file_path = \"./data/cafe.15000_end.json\"\n",
    "# Write the list to a JSON file\n",
    "with open(file_path, \"w\") as json_file:\n",
    "    json.dump(locations, json_file)\n",
    "print(f\"list -> json 파일로 내보내기 완료 {file_path}\")"
   ]
  },
  {
   "cell_type": "code",
   "execution_count": null,
   "metadata": {},
   "outputs": [],
   "source": [
    "with open('./data/cafe_start_7000.json', encoding = 'utf-8') as f:\n",
    "  pt1 = json.load(f)\n",
    "\n",
    "with open('./data/cafe_7000_10000.json', encoding = 'utf-8') as f:\n",
    "  pt2 = json.load(f)\n",
    "\n",
    "with open('./data/cafe_10000_15000.json', encoding = 'utf-8') as f:\n",
    "  pt3 = json.load(f)\n",
    "\n",
    "with open('./data/cafe_15000_end.json', encoding = 'utf-8') as f:\n",
    "  pt4 = json.load(f)\n",
    "\n",
    "list=pt1+pt2+pt3+pt4"
   ]
  },
  {
   "cell_type": "markdown",
   "metadata": {},
   "source": [
    "카카오API를 활용하여 행정동과 지역구, 위도와 경도 정보를 받아서 데이터프레임에 칼럼으로 붙임"
   ]
  },
  {
   "cell_type": "code",
   "execution_count": null,
   "metadata": {},
   "outputs": [],
   "source": [
    "df['행정동명'].replace('없음', np.nan, inplace=True) \n",
    "df.dropna(subset=['행정동명'], inplace=True) #행정동명이 없는 곳은 결측치로보고 삭제\n",
    "df=df.reset_index(drop=True)"
   ]
  },
  {
   "cell_type": "code",
   "execution_count": null,
   "metadata": {},
   "outputs": [],
   "source": [
    "df.rename({'bplcnm':'상호명','rdnwhladdr':'도로명주소'}, axis=1, inplace=True) "
   ]
  },
  {
   "cell_type": "code",
   "execution_count": null,
   "metadata": {},
   "outputs": [],
   "source": [
    "df=df[['상호명','도로명주소','행정동명','위도','경도']] #필요 칼럼만 남기기"
   ]
  },
  {
   "cell_type": "code",
   "execution_count": null,
   "metadata": {},
   "outputs": [],
   "source": [
    "# 신사동 -> 신사동(관악구), 신사동(강남구)로 분리표기\n",
    "for i in store_df[(store_df['행정동명'] == '신사동') & (store_df['시군구명'] == '관악구')]['행정동명'].index:\n",
    "    store_df.at[i, '행정동명'] = '신사동(관악구)' \n",
    "\n",
    "for i in store_df[(store_df['행정동명'] == '신사동') & (store_df['시군구명'] == '강남구')]['행정동명'].index:\n",
    "    store_df.at[i, '행정동명'] = '신사동(강남구)'"
   ]
  },
  {
   "cell_type": "code",
   "execution_count": null,
   "metadata": {},
   "outputs": [],
   "source": [
    "df.to_csv('./data/서울시_카페_위치정보.csv', index=False)"
   ]
  },
  {
   "cell_type": "code",
   "execution_count": null,
   "metadata": {},
   "outputs": [],
   "source": [
    "g_df=df.groupby('행정동명')['상호명'].count().to_frame()"
   ]
  },
  {
   "cell_type": "code",
   "execution_count": null,
   "metadata": {},
   "outputs": [],
   "source": [
    "g_df = g_df.rename(columns={'상호명':'카페수'})"
   ]
  },
  {
   "cell_type": "code",
   "execution_count": null,
   "metadata": {},
   "outputs": [],
   "source": [
    "g_df.to_csv('./data/카페 수.csv')"
   ]
  },
  {
   "cell_type": "markdown",
   "metadata": {},
   "source": [
    "- #### 유동인구 전처리\n",
    "\n",
    "    -  서울시 지하철호선별 역별 승하차인원 엑셀로 집계하여 주소정보와 병합후 코드로 병합 진행"
   ]
  },
  {
   "cell_type": "code",
   "execution_count": null,
   "metadata": {},
   "outputs": [],
   "source": [
    "df=pd.read_csv('./data/서울지하철_공공데이터_호선별_역별_승하차인원_일평균.csv')"
   ]
  },
  {
   "cell_type": "code",
   "execution_count": null,
   "metadata": {},
   "outputs": [],
   "source": [
    "df=df.sort_values(['호선','역명'])\n",
    "df=df.reset_index(drop=True)"
   ]
  },
  {
   "cell_type": "code",
   "execution_count": null,
   "metadata": {},
   "outputs": [],
   "source": [
    "df2=pd.read_csv('./data/서울시_지하철호선별_역별_위치정보.csv')"
   ]
  },
  {
   "cell_type": "markdown",
   "metadata": {},
   "source": [
    "행정동이 결측치인 것은 엑셀로 직접 찾아 수정함"
   ]
  },
  {
   "cell_type": "code",
   "execution_count": null,
   "metadata": {},
   "outputs": [],
   "source": [
    "m_df=pd.merge(df,df2, on=['호선', '역명'], how='left')"
   ]
  },
  {
   "cell_type": "code",
   "execution_count": null,
   "metadata": {},
   "outputs": [],
   "source": [
    "m_df.to_csv('./data/서울지하철_공공데이터_호선별_역별_승하차인원_일평균_행정동포함.csv', index=False)"
   ]
  },
  {
   "cell_type": "markdown",
   "metadata": {},
   "source": [
    "- #### 유동인구 전처리2  \n",
    "    - 버스 전처리"
   ]
  },
  {
   "cell_type": "code",
   "execution_count": null,
   "metadata": {},
   "outputs": [],
   "source": [
    "bus_df = pd.read_csv('./data/시간대별_승하차_인원_정보_버스.csv', encoding='cp949')"
   ]
  },
  {
   "cell_type": "code",
   "execution_count": null,
   "metadata": {},
   "outputs": [],
   "source": [
    "bus_df['합계'] = bus_df['승차']+bus_df['하차']"
   ]
  },
  {
   "cell_type": "code",
   "execution_count": null,
   "metadata": {},
   "outputs": [],
   "source": [
    "bus_df = bus_df[['표준버스정류장ID','버스정류장ARS번호', '역명', '합계']]"
   ]
  },
  {
   "cell_type": "code",
   "execution_count": null,
   "metadata": {},
   "outputs": [],
   "source": [
    "bus_df.to_csv('./data/버스합계.csv', index=False)"
   ]
  },
  {
   "cell_type": "code",
   "execution_count": null,
   "metadata": {},
   "outputs": [],
   "source": [
    "bus_location_df = pd.read_csv('./data/서울시버스정류소ID_위도_경도.csv')"
   ]
  },
  {
   "cell_type": "markdown",
   "metadata": {},
   "source": [
    "카카오API로 좌표를 통해 지역구와 행정동 추출하는 과정 진행"
   ]
  },
  {
   "cell_type": "code",
   "execution_count": null,
   "metadata": {},
   "outputs": [],
   "source": [
    "bus_location_df #행정동, 지역구 포함된 데이터프레임"
   ]
  },
  {
   "cell_type": "code",
   "execution_count": null,
   "metadata": {},
   "outputs": [],
   "source": [
    "for i in bus_location_df[(bus_location_df['행정동'] == '신사동') & (bus_location_df['구'] == '관악구')]['행정동'].index:\n",
    "    bus_location_df.at[i, '행정동'] = '신사동(관악구)'\n",
    "\n",
    "for i in bus_location_df[(bus_location_df['행정동'] == '신사동') & (bus_location_df['구'] == '강남구')]['행정동'].index:\n",
    "    bus_location_df.at[i, '행정동'] = '신사동(강남구)'"
   ]
  },
  {
   "cell_type": "code",
   "execution_count": null,
   "metadata": {},
   "outputs": [],
   "source": [
    "bus_location_df['행정동'] = bus_location_df['행정동'].apply(lambda x: re.sub(r'제(\\d+)동', r'\\1동', x) if '제' in x else x)"
   ]
  },
  {
   "cell_type": "code",
   "execution_count": null,
   "metadata": {},
   "outputs": [],
   "source": [
    "bus_location_df.to_csv('./data/버스정류소 행정동.csv')"
   ]
  },
  {
   "cell_type": "code",
   "execution_count": null,
   "metadata": {},
   "outputs": [],
   "source": [
    "merge_df = pd.merge(bus_df, bus_location_df, left_on = '표준버스정류장ID', right_on = 'NODE_ID', how='left')"
   ]
  },
  {
   "cell_type": "code",
   "execution_count": null,
   "metadata": {},
   "outputs": [],
   "source": [
    "merge_df.to_csv(\"./data/버스 합계 행정동별.csv\")"
   ]
  },
  {
   "cell_type": "code",
   "execution_count": null,
   "metadata": {},
   "outputs": [],
   "source": [
    "merge_df = merge_df.dropna(axis=0)"
   ]
  },
  {
   "cell_type": "code",
   "execution_count": null,
   "metadata": {},
   "outputs": [],
   "source": [
    "merge_df = merge_df.groupby(['행정동'])['합계'].sum().to_frame()\n",
    "merge_df.reset_index(inplace=True)"
   ]
  },
  {
   "cell_type": "code",
   "execution_count": null,
   "metadata": {},
   "outputs": [],
   "source": [
    "merge_df.to_csv('./data/버스 행정동별 합계 최종.csv')"
   ]
  },
  {
   "cell_type": "markdown",
   "metadata": {},
   "source": [
    "- #### 유동인구 전처리3  \n",
    "    - 지하철 승하차인원과 버스승하차인원 정보를 병합하여 유동인구 데이터 생성"
   ]
  },
  {
   "cell_type": "code",
   "execution_count": null,
   "metadata": {},
   "outputs": [],
   "source": [
    "subway_data = pd.read_csv('./data_to_preprocess/서울지하철_호선별_역별_승하차인원_일평균_행정동포함.csv', usecols = ['행정동명', '승하차인원'])\n",
    "bus_data = pd.read_csv('./data_to_preprocess/버스 행정동별 합계 최종.csv', index_col=0)"
   ]
  },
  {
   "cell_type": "code",
   "execution_count": null,
   "metadata": {},
   "outputs": [],
   "source": [
    "# 소수점 값이 포함된 지하철 승하차 인원은 반올림 후, 정수로 형 변화\n",
    "subway_data['승하차인원'] = round(subway_data['승하차인원']).astype('int')"
   ]
  },
  {
   "cell_type": "code",
   "execution_count": null,
   "metadata": {},
   "outputs": [],
   "source": [
    "# 행정동별로 그룹핑하고 합계 내기\n",
    "subway_data = subway_data.groupby('행정동명').sum().reset_index()"
   ]
  },
  {
   "cell_type": "code",
   "execution_count": null,
   "metadata": {},
   "outputs": [],
   "source": [
    "# 버스와 지하철 데이터 합치기\n",
    "final_df = pd.merge(bus_data, subway_data, on=['행정동명'], how='left', suffixes=['_버스', '_지하철'])\n",
    "final_df.fillna(0, inplace=True)"
   ]
  },
  {
   "cell_type": "code",
   "execution_count": null,
   "metadata": {},
   "outputs": [],
   "source": [
    "# 승하차 인원 합계\n",
    "final_df['승하차인원_버스_지하철'] = final_df['승하차인원_버스'] + final_df['승하차인원_지하철']\n",
    "final_df=final_df['행정동명', '승하차인원_버스_지하철']"
   ]
  },
  {
   "cell_type": "code",
   "execution_count": null,
   "metadata": {},
   "outputs": [],
   "source": [
    "final_df.to_csv('./data/버스_지하철_승하차인원_8월평균.csv', index=False)"
   ]
  },
  {
   "cell_type": "markdown",
   "metadata": {},
   "source": [
    "- #### 매출 전처리"
   ]
  },
  {
   "cell_type": "code",
   "execution_count": null,
   "metadata": {},
   "outputs": [],
   "source": [
    "data_money =pd.read_csv('./data/서울시_상권분석서비스(상권_추정매출)_2022년.csv',encoding='cp949')"
   ]
  },
  {
   "cell_type": "code",
   "execution_count": null,
   "metadata": {},
   "outputs": [],
   "source": [
    "data_money.columns"
   ]
  },
  {
   "cell_type": "code",
   "execution_count": null,
   "metadata": {},
   "outputs": [],
   "source": [
    "# 필터링할 서비스 업종 코드 명 설정\n",
    "selected_service_types = ['커피-음료', '제과점']\n",
    "\n",
    "# 서비스 업종 코드 명이 선택한 값들 중 하나인 행만 추출\n",
    "filtered_df = data_money[data_money['서비스_업종_코드_명'].isin(selected_service_types)]"
   ]
  },
  {
   "cell_type": "code",
   "execution_count": null,
   "metadata": {},
   "outputs": [],
   "source": [
    "# 필요한 컬럼만 선택\n",
    "selected_columns = [\n",
    "    '기준_분기_코드', '상권_코드', '상권_코드_명', '서비스_업종_코드',\n",
    "    '서비스_업종_코드_명','분기당_매출_금액', '분기당_매출_건수', '점포수'\n",
    "]\n",
    "filtered_df = filtered_df[selected_columns]"
   ]
  },
  {
   "cell_type": "code",
   "execution_count": null,
   "metadata": {},
   "outputs": [],
   "source": [
    "# '*' 문자를 0으로 채운다 \n",
    "filtered_df['점포수'] = filtered_df['점포수'].str.replace('*','0', regex=True)"
   ]
  },
  {
   "cell_type": "code",
   "execution_count": null,
   "metadata": {},
   "outputs": [],
   "source": [
    "filtered_df['점포수'] = filtered_df['점포수'].astype(int)"
   ]
  },
  {
   "cell_type": "code",
   "execution_count": null,
   "metadata": {},
   "outputs": [],
   "source": [
    "# 상권_코드와 서비스_업종_코드를 그룹화하고, 각 컬럼의 합계 계산\n",
    "result = filtered_df.groupby(['상권_코드']).agg({\n",
    "    '분기당_매출_금액': 'sum',\n",
    "    '분기당_매출_건수': 'sum',\n",
    "    '점포수': 'sum'\n",
    "}).reset_index()"
   ]
  },
  {
   "cell_type": "code",
   "execution_count": null,
   "metadata": {},
   "outputs": [],
   "source": [
    "# '상권_코드'의 숫자 맨 앞자리를 1만큼 증가시키기\n",
    "result['상권_코드'] = result['상권_코드'] + 1000000  # 1만을 더해 1만 증가시킴"
   ]
  },
  {
   "cell_type": "code",
   "execution_count": null,
   "metadata": {},
   "outputs": [],
   "source": [
    "# 관광특구 예외전처리 - '상권_코드'의 숫자 맨 앞자리가 2인 경우에만 1을 증가시키기\n",
    "result['상권_코드'] = result['상권_코드'].apply(lambda x: x + 1000000 if str(x)[0] == '2' else x)"
   ]
  },
  {
   "cell_type": "code",
   "execution_count": null,
   "metadata": {},
   "outputs": [],
   "source": [
    "# 상권_코드끼리 맵핑하기 위해 서울시 상권분석서비스(상권영역).csv를 불러온다\n",
    "data_map = pd.read_csv('./data/서울시 상권분석서비스(상권영역).csv',encoding='cp949')"
   ]
  },
  {
   "cell_type": "code",
   "execution_count": null,
   "metadata": {},
   "outputs": [],
   "source": [
    "# 컬럼을 기준으로 조인\n",
    "df_sangun = result.merge(data_map[['상권_코드','상권_코드_명','엑스좌표_값','와이좌표_값','행정동_코드']], on=['상권_코드'], how='left')"
   ]
  },
  {
   "cell_type": "code",
   "execution_count": null,
   "metadata": {},
   "outputs": [],
   "source": [
    "df_sangun.to_csv('./data/행정동_상권코드별_매출액.csv')"
   ]
  },
  {
   "cell_type": "code",
   "execution_count": null,
   "metadata": {},
   "outputs": [],
   "source": [
    "df_sangun_sample = df_sangun[['행정동_코드','분기당_매출_금액','분기당_매출_건수','점포수']]"
   ]
  },
  {
   "cell_type": "code",
   "execution_count": null,
   "metadata": {},
   "outputs": [],
   "source": [
    "# '행정동_코드'로 그룹화하여 각 컬럼의 합을 계산\n",
    "result_sangun = df_sangun_sample.groupby('행정동_코드').agg({\n",
    "    '분기당_매출_금액': 'sum',\n",
    "    '분기당_매출_건수': 'sum',\n",
    "    '점포수': 'sum'\n",
    "}).reset_index()"
   ]
  },
  {
   "cell_type": "code",
   "execution_count": null,
   "metadata": {},
   "outputs": [],
   "source": [
    "result_sangun.rename(columns={'분기당_매출_금액':'행정동별_1년_매출액','분기당_매출_건수':'행정동별_1년_매출건수'},inplace=True)"
   ]
  },
  {
   "cell_type": "code",
   "execution_count": null,
   "metadata": {},
   "outputs": [],
   "source": [
    "# 행정동별 1점포당 1년 매출액 계산\n",
    "result_sangun['1점포당_1년_매출액'] = result_sangun['행정동별_1년_매출액'] / result_sangun['점포수']"
   ]
  },
  {
   "cell_type": "code",
   "execution_count": null,
   "metadata": {},
   "outputs": [],
   "source": [
    "result_sangun_1pc = result_sangun[['행정동_코드','행정동별_1년_매출액','행정동별_1년_매출건수','점포수','1점포당_1년_매출액']]"
   ]
  },
  {
   "cell_type": "code",
   "execution_count": null,
   "metadata": {},
   "outputs": [],
   "source": [
    "result_sangun_1pc.rename(columns={'행정동_코드':'행정동코드8'},inplace=True)"
   ]
  },
  {
   "cell_type": "code",
   "execution_count": null,
   "metadata": {},
   "outputs": [],
   "source": [
    "df_code8 = pd.read_csv('./data/서울시_행정동_코드_행안부(8자리)_수정.csv',index_col=0)"
   ]
  },
  {
   "cell_type": "code",
   "execution_count": null,
   "metadata": {},
   "outputs": [],
   "source": [
    "# on을 기준으로 조인\n",
    "result_sangun_1pc_merge = df_code8.merge(result_sangun_1pc[['행정동코드8','행정동별_1년_매출액','행정동별_1년_매출건수','점포수','1점포당_1년_매출액']], on=['행정동코드8'], how='left')"
   ]
  },
  {
   "cell_type": "code",
   "execution_count": null,
   "metadata": {},
   "outputs": [],
   "source": [
    "# 결측치를 대체하기 위해 '시군구명'로 그룹화하여 각 컬럼의 평균값을 계산\n",
    "mk_mean = result_sangun_1pc_merge.groupby('시군구명').agg({\n",
    "    '행정동별_1년_매출액': 'mean',\n",
    "    '행정동별_1년_매출건수': 'mean',\n",
    "    '점포수': 'mean',\n",
    "    '1점포당_1년_매출액': 'mean'\n",
    "}).reset_index()"
   ]
  },
  {
   "cell_type": "code",
   "execution_count": null,
   "metadata": {},
   "outputs": [],
   "source": [
    "# null값 대체하기위한 행정동별 1점포당 1년 매출액 계산\n",
    "mk_mean['1점포당_1년_매출액'] = mk_mean['행정동별_1년_매출액'] / mk_mean['점포수']"
   ]
  },
  {
   "cell_type": "code",
   "execution_count": null,
   "metadata": {},
   "outputs": [],
   "source": [
    "# 결측치를 두 번째 데이터 프레임의 값으로 대체\n",
    "result_sangun_1pc_merge['행정동별_1년_매출액'].fillna(result_sangun_1pc_merge['시군구명'].map(mk_mean.set_index('시군구명')['행정동별_1년_매출액']), inplace=True)\n",
    "result_sangun_1pc_merge['행정동별_1년_매출건수'].fillna(result_sangun_1pc_merge['시군구명'].map(mk_mean.set_index('시군구명')['행정동별_1년_매출건수']), inplace=True)\n",
    "result_sangun_1pc_merge['점포수'].fillna(result_sangun_1pc_merge['시군구명'].map(mk_mean.set_index('시군구명')['점포수']), inplace=True)\n",
    "result_sangun_1pc_merge['1점포당_1년_매출액'].fillna(result_sangun_1pc_merge['시군구명'].map(mk_mean.set_index('시군구명')['1점포당_1년_매출액']), inplace=True)"
   ]
  },
  {
   "cell_type": "code",
   "execution_count": null,
   "metadata": {},
   "outputs": [],
   "source": [
    "df_money = result_sangun_1pc_merge[['행정동명','1점포당_1년_매출액']]"
   ]
  },
  {
   "cell_type": "code",
   "execution_count": null,
   "metadata": {},
   "outputs": [],
   "source": [
    "df_money.to_excel('./data/행정동_매출액.xlsx')"
   ]
  },
  {
   "cell_type": "markdown",
   "metadata": {},
   "source": [
    "엑셀파일로 전처리과정을 거쳐 csv파일로 저장"
   ]
  },
  {
   "cell_type": "markdown",
   "metadata": {},
   "source": [
    "### 병합"
   ]
  },
  {
   "cell_type": "markdown",
   "metadata": {},
   "source": [
    "- #### 행정동명 붙인 파일들 불러오기"
   ]
  },
  {
   "cell_type": "code",
   "execution_count": null,
   "metadata": {},
   "outputs": [],
   "source": [
    "store_count_df = pd.read_csv('./data/상가_행정동_count.csv', index_col=0) #채소가게 수\n",
    "generation_df = pd.read_csv('./data/세대원 구성 426.csv', index_col=0) #세대구성별 세대수\n",
    "zero_df = pd.read_csv('./data/제로웨이스트 가게수.csv', index_col=0) #제로웨이스트 가게수\n",
    "kinder_df = pd.read_csv('./data/유치원수.csv', index_col=0) #유치원 수\n",
    "eco_df = pd.read_csv('./data/환경_미세먼지_공원.csv', index_col=0) #거주인구대비취약자수 및 백분위, 미세먼지지수 및 백분위, 행정구역면적, 공원수, 공원율\n",
    "farm_df = pd.read_csv('./data/행정동도시농업.csv', index_col=0) #도시농업 프로그램 및 시설 수\n",
    "elementary_df = pd.read_csv('./data/초등학교수.csv', index_col=0) #초등학교 수\n",
    "business_df = pd.read_csv('./data/사업체및종사자수.csv', index_col=0) #사업체 및 종사자 수\n",
    "vegan_df = pd.read_csv('./data/채식식당수.csv', index_col=0) #채식식당 수\n",
    "people_df = pd.read_csv('./data/거주인구수.csv', index_col=0) #인구 수\n",
    "age_gender_df = pd.read_csv('./data/행정동별 성별 연령대별 거주인구.csv') #성별과 연령대별 인구 수\n",
    "cafe_df = pd.read_csv('./data/카페 수.csv', index_col=0) #카페 수\n",
    "move_df = pd.read_csv('./data/버스_지하철_승하차인원_8월평균.csv', index_col=0) #유동인구 수\n",
    "sales_df = pd.read_csv('./data/행정동_매출액.csv', encoding='cp949', index_col=0) #점포당 1년 매출액\n",
    "year_sales_df = pd.read_csv('./data/행정동별_1년전체매출액_수정.csv', encoding='cp949', index_col=0) #1년 전체 매출액"
   ]
  },
  {
   "cell_type": "markdown",
   "metadata": {},
   "source": [
    "- #### 데이터프레임 병합"
   ]
  },
  {
   "cell_type": "code",
   "execution_count": null,
   "metadata": {},
   "outputs": [],
   "source": [
    "m_df_0 = pd.merge(generation_df, store_count_df, left_index=True, right_index=True, how='outer')\n",
    "m_df_1 = pd.merge(m_df_0, zero_df, left_index=True, right_index=True, how='outer')\n",
    "m_df_2 = pd.merge(m_df_1, kinder_df, left_index=True, right_index=True, how='outer')\n",
    "m_df_3 = pd.merge(m_df_2, eco_df, left_index=True, right_index=True, how='outer')\n",
    "m_df_4 = pd.merge(m_df_3, farm_df, left_index=True, right_index=True, how='outer')\n",
    "m_df_5 = pd.merge(m_df_4, elementary_df, left_index=True, right_index=True, how='outer')\n",
    "m_df_6 = pd.merge(m_df_5, business_df, left_index=True, right_index=True, how='outer')\n",
    "m_df_7 = pd.merge(m_df_6, vegan_df, left_index=True, right_index=True, how='outer')\n",
    "m_df_8 = pd.merge(m_df_7, people_df, left_index=True, right_index=True, how='outer')\n",
    "m_df_9 = pd.merge(m_df_8, age_gender_df, left_index=True, right_index=True, how='outer')\n",
    "m_df_10 = pd.merge(m_df_9, cafe_df, left_index=True, right_index=True, how='outer')\n",
    "m_df_11 = pd.merge(m_df_10, move_df, left_index=True, right_index=True, how='outer')\n",
    "m_df_12 = pd.merge(m_df_11, sales_df, left_index=True, right_index=True, how='outer')\n",
    "m_df_13 = pd.merge(m_df_12.reset_index().rename(columns={'index': '행정동명'}), year_sales_df, on='행정동명', how='left')"
   ]
  },
  {
   "cell_type": "markdown",
   "metadata": {},
   "source": [
    "- #### 병합된 데이터프레임 정제 후 저장"
   ]
  },
  {
   "cell_type": "code",
   "execution_count": null,
   "metadata": {},
   "outputs": [],
   "source": [
    "m_df_13.fillna(0, inplace=True) #결측치 0으로 대체\n",
    "m_df_13.set_index('행정동명', drop=True, inplace=True)\n",
    "m_df_13.to_csv('./data/final_data_before_winsorization.csv')"
   ]
  },
  {
   "cell_type": "markdown",
   "metadata": {},
   "source": [
    "- #### 저장된 데이터셋 확인"
   ]
  },
  {
   "cell_type": "code",
   "execution_count": 15,
   "metadata": {},
   "outputs": [
    {
     "name": "stdout",
     "output_type": "stream",
     "text": [
      "사용하는 컬럼수: 50개\n"
     ]
    }
   ],
   "source": [
    "data=pd.read_csv('./data/final_data_before_winsorization.csv',index_col=0)\n",
    "print(f'사용하는 컬럼수: {len(data.columns)}개')"
   ]
  }
 ],
 "metadata": {
  "kernelspec": {
   "display_name": "base",
   "language": "python",
   "name": "python3"
  },
  "language_info": {
   "codemirror_mode": {
    "name": "ipython",
    "version": 3
   },
   "file_extension": ".py",
   "mimetype": "text/x-python",
   "name": "python",
   "nbconvert_exporter": "python",
   "pygments_lexer": "ipython3",
   "version": "3.9.13"
  }
 },
 "nbformat": 4,
 "nbformat_minor": 2
}
