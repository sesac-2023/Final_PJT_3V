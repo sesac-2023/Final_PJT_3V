{
 "cells": [
  {
   "cell_type": "code",
   "execution_count": 1,
   "metadata": {},
   "outputs": [],
   "source": [
    "import requests\n",
    "from bs4 import BeautifulSoup\n",
    "import time\n",
    "import re\n",
    "import pandas as pd"
   ]
  },
  {
   "cell_type": "markdown",
   "metadata": {},
   "source": [
    "기사 개별 url 가져오기"
   ]
  },
  {
   "cell_type": "code",
   "execution_count": 18,
   "metadata": {},
   "outputs": [
    {
     "name": "stdout",
     "output_type": "stream",
     "text": [
      "Page 1 URLs: ['http://v.daum.net/v/20180330170503197', 'http://v.daum.net/v/20180416110043949', 'http://v.daum.net/v/20180417030019975', 'http://v.daum.net/v/20180423060235509', 'http://v.daum.net/v/20180623072013344', 'http://v.daum.net/v/20180723060224702', 'http://v.daum.net/v/20190305170417398', 'http://v.daum.net/v/20190312114200478', 'http://v.daum.net/v/20190829090614617', 'http://v.daum.net/v/20190829090736703']\n",
      "Page 2 URLs: ['http://v.daum.net/v/20190920144203728', 'http://v.daum.net/v/20190923030340663', 'http://v.daum.net/v/20190926172818580', 'http://v.daum.net/v/20200211115116657', 'http://v.daum.net/v/20200305170134985', 'http://v.daum.net/v/20200310152504856', 'http://v.daum.net/v/20200318170129587', 'http://v.daum.net/v/20200408143924066', 'http://v.daum.net/v/20200408145712995', 'http://v.daum.net/v/20200515165710346']\n",
      "Page 3 URLs: ['http://v.daum.net/v/20200515183808050', 'http://v.daum.net/v/20200516091009358', 'http://v.daum.net/v/20200518155400041', 'http://v.daum.net/v/20200518174802768', 'http://v.daum.net/v/20200624142403047', 'http://v.daum.net/v/20200716060123560', 'http://v.daum.net/v/20200902143811688', 'http://v.daum.net/v/20200902185952287', 'http://v.daum.net/v/20200916142609811', 'http://v.daum.net/v/20200923105708529']\n",
      "Page 4 URLs: ['http://v.daum.net/v/20201012154725434', 'http://v.daum.net/v/20201015160008115', 'http://v.daum.net/v/20201021135016423', 'http://v.daum.net/v/20201026074311054', 'http://v.daum.net/v/20201029104029471', 'http://v.daum.net/v/20201123115028634', 'http://v.daum.net/v/20201203112602549', 'http://v.daum.net/v/20201203135102987', 'http://v.daum.net/v/20201203161743095', 'http://v.daum.net/v/20201204030814088']\n",
      "Page 5 URLs: ['http://v.daum.net/v/20201204122232139', 'http://v.daum.net/v/20201210110102168', 'http://v.daum.net/v/20201210120417442', 'http://v.daum.net/v/20201210150000132', 'http://v.daum.net/v/20201210150011162', 'http://v.daum.net/v/20201210150019176', 'http://v.daum.net/v/20201210150055213', 'http://v.daum.net/v/20201210150131257', 'http://v.daum.net/v/20201210152108233', 'http://v.daum.net/v/20201210160115381']\n",
      "Page 6 URLs: ['http://v.daum.net/v/20201210161129918', 'http://v.daum.net/v/20201210195444906', 'http://v.daum.net/v/20201214145005391', 'http://v.daum.net/v/20201214153432259', 'http://v.daum.net/v/20201214161852073', 'http://v.daum.net/v/20201226041012241', 'http://v.daum.net/v/20210121095002547', 'http://v.daum.net/v/20210121101310668', 'http://v.daum.net/v/20210121101806940', 'http://v.daum.net/v/20210121104420393']\n",
      "Page 7 URLs: ['http://v.daum.net/v/20210121104833606', 'http://v.daum.net/v/20210121105821099', 'http://v.daum.net/v/20210121110727608', 'http://v.daum.net/v/20210121121952896', 'http://v.daum.net/v/20210121122509031', 'http://v.daum.net/v/20210121132939498', 'http://v.daum.net/v/20210121143609950', 'http://v.daum.net/v/20210121192423062', 'http://v.daum.net/v/20210122105701691', 'http://v.daum.net/v/20210207155800525']\n",
      "Page 8 URLs: ['http://v.daum.net/v/20210223113300825', 'http://v.daum.net/v/20210318103819548', 'http://v.daum.net/v/20210318170558085', 'http://v.daum.net/v/20210421144142302', 'http://v.daum.net/v/20210426083341611', 'http://v.daum.net/v/20210503143008933', 'http://v.daum.net/v/20210507042006539', 'http://v.daum.net/v/20210520000450914', 'http://v.daum.net/v/20210616092349708', 'http://v.daum.net/v/20210616093318185']\n",
      "Page 9 URLs: ['http://v.daum.net/v/20210621132803538', 'http://v.daum.net/v/20210702140004520', 'http://v.daum.net/v/20210704131616190', 'http://v.daum.net/v/20210705075741251', 'http://v.daum.net/v/20210705105344166', 'http://v.daum.net/v/20210705130324966', 'http://v.daum.net/v/20210803134508958', 'http://v.daum.net/v/20210803155303939', 'http://v.daum.net/v/20210805072203579', 'http://v.daum.net/v/20210825000449788']\n",
      "Page 10 URLs: ['http://v.daum.net/v/20210901143911245', 'http://v.daum.net/v/20210906064205269', 'http://v.daum.net/v/20211027150000985', 'http://v.daum.net/v/20211101070122291', 'http://v.daum.net/v/20211102134925348', 'http://v.daum.net/v/20211104192346092', 'http://v.daum.net/v/20211105003334242', 'http://v.daum.net/v/20211115160152753', 'http://v.daum.net/v/20211207093632704', 'http://v.daum.net/v/20211207095802462']\n",
      "Page 11 URLs: ['http://v.daum.net/v/20211207105112734', 'http://v.daum.net/v/20211207111603787', 'http://v.daum.net/v/20211207163100763', 'http://v.daum.net/v/20211207175225398', 'http://v.daum.net/v/20211208125938276', 'http://v.daum.net/v/20211209094807068', 'http://v.daum.net/v/20211213164537314', 'http://v.daum.net/v/20211213180116565', 'http://v.daum.net/v/20220118173301145', 'http://v.daum.net/v/20220325001058142']\n",
      "Page 12 URLs: ['http://v.daum.net/v/20220404180857700', 'http://v.daum.net/v/20220419162508547', 'http://v.daum.net/v/20220419180129780', 'http://v.daum.net/v/20220420144004620', 'http://v.daum.net/v/20220420155114297', 'http://v.daum.net/v/20220426112418041', 'http://v.daum.net/v/20220426141404357', 'http://v.daum.net/v/20220426141754547', 'http://v.daum.net/v/20220426193843944', 'http://v.daum.net/v/20220507053709532']\n",
      "Page 13 URLs: ['http://v.daum.net/v/20220507080306887', 'http://v.daum.net/v/20220507224312030', 'http://v.daum.net/v/20220525182805244', 'http://v.daum.net/v/20220526030224195', 'http://v.daum.net/v/20220526172251656', 'http://v.daum.net/v/20220530102827752', 'http://v.daum.net/v/20220616135828233', 'http://v.daum.net/v/20220616135849249', 'http://v.daum.net/v/20220701100812443', 'http://v.daum.net/v/20220702124516186']\n",
      "Page 14 URLs: ['http://v.daum.net/v/20220702130020256', 'http://v.daum.net/v/20220719120629136', 'http://v.daum.net/v/20220803051146041', 'http://v.daum.net/v/20220804140806369', 'http://v.daum.net/v/20220811194652256', 'http://v.daum.net/v/20220915134801963', 'http://v.daum.net/v/20221005121729066', 'http://v.daum.net/v/20221005122016135', 'http://v.daum.net/v/20221007051141315', 'http://v.daum.net/v/20221103113822439']\n",
      "Page 15 URLs: ['http://v.daum.net/v/20221207172558652', 'http://v.daum.net/v/20230109060101160', 'http://v.daum.net/v/20230111050018226', 'http://v.daum.net/v/20230116142702073', 'http://v.daum.net/v/20230116173203044', 'http://v.daum.net/v/20230126110013358', 'http://v.daum.net/v/20230126113902170', 'http://v.daum.net/v/20230212064311275', 'http://v.daum.net/v/20230212114011908', 'http://v.daum.net/v/20230213093947645']\n",
      "Page 16 URLs: ['http://v.daum.net/v/20230222153133700', 'http://v.daum.net/v/20230315060012205', 'http://v.daum.net/v/20230315060226366', 'http://v.daum.net/v/20230402155443719', 'http://v.daum.net/v/20230406151146956', 'http://v.daum.net/v/20230410050203614', 'http://v.daum.net/v/20230410151821180', 'http://v.daum.net/v/20230412160404488', 'http://v.daum.net/v/20230420150105061', 'http://v.daum.net/v/20230428070014875']\n",
      "Page 17 URLs: ['http://v.daum.net/v/20230502074242001', 'http://v.daum.net/v/20230502093145073', 'http://v.daum.net/v/20230502101025900', 'http://v.daum.net/v/20230502112229537', 'http://v.daum.net/v/20230502141736711', 'http://v.daum.net/v/20230523164402215', 'http://v.daum.net/v/20230524200056912', 'http://v.daum.net/v/20230525000434555', 'http://v.daum.net/v/20230525081756586', 'http://v.daum.net/v/20230704160056655']\n",
      "Page 18 URLs: ['http://v.daum.net/v/20230725104056124', 'http://v.daum.net/v/20230822080010510', 'http://v.daum.net/v/20230908050158468', 'http://v.daum.net/v/20230908180320244', 'http://v.daum.net/v/20230915221159575', 'http://v.daum.net/v/20230920081916787', 'http://v.daum.net/v/20230920082545931', 'http://v.daum.net/v/20230920123052101', 'http://v.daum.net/v/20230920173726375', 'http://v.daum.net/v/20230923090515350']\n",
      "180\n"
     ]
    }
   ],
   "source": [
    "url = 'https://search.daum.net/search'\n",
    "\n",
    "search_keywords = ['도시형 스마트팜', '도심형 스마트팜', '수직형 스마트팜']\n",
    "\n",
    "params = {\n",
    "    'w': 'news',\n",
    "    'nil_search': 'btn',\n",
    "    'DA': 'PGD',\n",
    "    'enc': 'utf8',\n",
    "    'cluster': 'y',\n",
    "    'cluster_page': '1',\n",
    "    'q': '수직형 스마트팜',  # 수직형 스마트팜, 도심형 스마트팜, 도시형 스마트팜\n",
    "    'show_dns': '1',\n",
    "    'sd': '20180101000000',  # 뉴스 검색 시작 날짜\n",
    "    'ed': '20230930235959',  # 뉴스 검색 마지막 날짜 20230930235959\n",
    "    'period': 'u',\n",
    "    'p': 1,  # 페이지 1부터 같은 페이지가 나올 때까지 while True로 구현 += 1\n",
    "    'sort': 'old',\n",
    "}\n",
    "\n",
    "# 기사의 개별 url을 리스트로 가져오는 함수 생성\n",
    "def get_urls(soup):\n",
    "    urls = []\n",
    "    for item in soup.select('.item-title'):\n",
    "        urls.append(item.select_one('a').attrs['href'])\n",
    "    return urls\n",
    "\n",
    "\n",
    "# 한 화면에 기사 20개가 담긴 페이지에서, 원하는 기간 동안, 기사 개별 url 가져오기 (페이지 넘김 기능)\n",
    "result = []\n",
    "previous_urls = None\n",
    "while True:\n",
    "    response = requests.get(url, params=params)\n",
    "    soup = BeautifulSoup(response.text, 'html.parser')\n",
    "    urls = get_urls(soup)  \n",
    "\n",
    "    if previous_urls == urls:\n",
    "        break\n",
    "\n",
    "    # time.sleep(1) # 차단 시, 해당 코드 활용\n",
    "    print(f\"Page {params['p']} URLs:\", urls)\n",
    "\n",
    "    params['p'] += 1\n",
    "    previous_urls = urls\n",
    "    result.extend(urls)\n",
    "print(len(result))"
   ]
  },
  {
   "cell_type": "markdown",
   "metadata": {},
   "source": [
    "기사 개별 url를 통해 뉴스 본문 가져오기"
   ]
  },
  {
   "cell_type": "code",
   "execution_count": 19,
   "metadata": {},
   "outputs": [],
   "source": [
    "def get_articles_to_df(result):\n",
    "    articles = []\n",
    "    for url in result:\n",
    "        article = {}\n",
    "        response = requests.get(url)\n",
    "        soup = BeautifulSoup(response.text, 'html.parser')\n",
    "        title = soup.select_one('#mArticle > div.head_view > h3').text\n",
    "        date = ''.join([data.zfill(2) for data in re.findall(r'\\d+', soup.select_one('.info_view').text)[:3]])\n",
    "        # date = soup.select_one('#mArticle > div.head_view > div.info_view > span:nth-child(2)').text\n",
    "        content = re.sub('\\n|\\t|\\r','', soup.select_one('.article_view').text.strip())\n",
    "\n",
    "        article = {\n",
    "            'title' : title,\n",
    "            'date' : date,\n",
    "            'content' : content\n",
    "        }\n",
    "        articles.append(article)\n",
    "    df = pd.DataFrame(articles)\n",
    "    return df\n",
    "    \n",
    "df = get_articles_to_df(result)"
   ]
  },
  {
   "cell_type": "code",
   "execution_count": 20,
   "metadata": {},
   "outputs": [
    {
     "data": {
      "text/html": [
       "<div>\n",
       "<style scoped>\n",
       "    .dataframe tbody tr th:only-of-type {\n",
       "        vertical-align: middle;\n",
       "    }\n",
       "\n",
       "    .dataframe tbody tr th {\n",
       "        vertical-align: top;\n",
       "    }\n",
       "\n",
       "    .dataframe thead th {\n",
       "        text-align: right;\n",
       "    }\n",
       "</style>\n",
       "<table border=\"1\" class=\"dataframe\">\n",
       "  <thead>\n",
       "    <tr style=\"text-align: right;\">\n",
       "      <th></th>\n",
       "      <th>title</th>\n",
       "      <th>date</th>\n",
       "      <th>content</th>\n",
       "    </tr>\n",
       "  </thead>\n",
       "  <tbody>\n",
       "    <tr>\n",
       "      <th>0</th>\n",
       "      <td>의령군 식물공장 공모사업 선정</td>\n",
       "      <td>20180330</td>\n",
       "      <td>경남 의령군(군수 오영호)이 농식품부에서 주최한 2018년도 수직형농장 비즈니스 모...</td>\n",
       "    </tr>\n",
       "    <tr>\n",
       "      <th>1</th>\n",
       "      <td>농식품부, 한국형 '프리바' 육성 모색..농업계 기업 반감 해소 과제</td>\n",
       "      <td>20180416</td>\n",
       "      <td>김현수 농림축산식품부 차관이 지난달 24일 경북 상주시 ‘새봄 농업회사법인’ 스마트...</td>\n",
       "    </tr>\n",
       "    <tr>\n",
       "      <th>2</th>\n",
       "      <td>\"2022년까지 전국 네 곳\"..스마트팜 거점 밑그림 나왔다(종합)</td>\n",
       "      <td>20180417</td>\n",
       "      <td>김현수 농림축산식품부 차관이 지난달 24일 경북 상주시 ‘새봄 농업회사법인’ 스마트...</td>\n",
       "    </tr>\n",
       "    <tr>\n",
       "      <th>3</th>\n",
       "      <td>농식품부, 스마트팜 혁신밸리 후보지 공모 개시</td>\n",
       "      <td>20180423</td>\n",
       "      <td>김현수 농림축산식품부 차관이 지난달 24일 경북 상주시 ‘새봄 농업회사법인’ 스마트...</td>\n",
       "    </tr>\n",
       "    <tr>\n",
       "      <th>4</th>\n",
       "      <td>농정원, 26일 수직형 농장 실증사업 참여업체 설명회</td>\n",
       "      <td>20180623</td>\n",
       "      <td>[세종=이데일리 이진철 기자] 농림수산식품교육문화정보원(농정원)은 오는 26일 오후...</td>\n",
       "    </tr>\n",
       "    <tr>\n",
       "      <th>...</th>\n",
       "      <td>...</td>\n",
       "      <td>...</td>\n",
       "      <td>...</td>\n",
       "    </tr>\n",
       "    <tr>\n",
       "      <th>175</th>\n",
       "      <td>그린케이팜, 농업분야 온실가스 감축사업 지원 농가 1호 선정</td>\n",
       "      <td>20230920</td>\n",
       "      <td>[아이뉴스24 고종민 기자] 스마트팜 전문 기업 그린플러스의 자회사 그린케이팜이 농...</td>\n",
       "    </tr>\n",
       "    <tr>\n",
       "      <th>176</th>\n",
       "      <td>그린케이팜, 온실가스 감축사업 지원 대상 농가 1호 선정</td>\n",
       "      <td>20230920</td>\n",
       "      <td>(왼쪽부터) 한국농업기술진흥원 안호근 원장, 농림축산식품부 강형석 기획조정실장, N...</td>\n",
       "    </tr>\n",
       "    <tr>\n",
       "      <th>177</th>\n",
       "      <td>그린케이팜, ‘온실가스 감축사업’ 농가 1호로 선정</td>\n",
       "      <td>20230920</td>\n",
       "      <td>[이데일리 최훈길 기자] 스마트팜 전문기업 그린플러스(186230)가 친환경 탄소중...</td>\n",
       "    </tr>\n",
       "    <tr>\n",
       "      <th>178</th>\n",
       "      <td>'딸기 식물공장'으로 채산성 높여..엘앤피, 경북도지사상</td>\n",
       "      <td>20230920</td>\n",
       "      <td>박은호 엘앤피 대표가 우수스타트업에 선정돼 경북도지사상을 수상한 뒤 기념 촬영 중이...</td>\n",
       "    </tr>\n",
       "    <tr>\n",
       "      <th>179</th>\n",
       "      <td>햇빛·바람·흙 없어도, 무농약 신선 채소가 바로 식탁으로</td>\n",
       "      <td>20230923</td>\n",
       "      <td>제주 ‘정가네 밥상’의 스마트팜. 정가네 밥상 누리집 갈무리           예로...</td>\n",
       "    </tr>\n",
       "  </tbody>\n",
       "</table>\n",
       "<p>180 rows × 3 columns</p>\n",
       "</div>"
      ],
      "text/plain": [
       "                                      title      date  \\\n",
       "0                          의령군 식물공장 공모사업 선정  20180330   \n",
       "1    농식품부, 한국형 '프리바' 육성 모색..농업계 기업 반감 해소 과제  20180416   \n",
       "2     \"2022년까지 전국 네 곳\"..스마트팜 거점 밑그림 나왔다(종합)  20180417   \n",
       "3                 농식품부, 스마트팜 혁신밸리 후보지 공모 개시  20180423   \n",
       "4             농정원, 26일 수직형 농장 실증사업 참여업체 설명회  20180623   \n",
       "..                                      ...       ...   \n",
       "175       그린케이팜, 농업분야 온실가스 감축사업 지원 농가 1호 선정  20230920   \n",
       "176         그린케이팜, 온실가스 감축사업 지원 대상 농가 1호 선정  20230920   \n",
       "177            그린케이팜, ‘온실가스 감축사업’ 농가 1호로 선정  20230920   \n",
       "178         '딸기 식물공장'으로 채산성 높여..엘앤피, 경북도지사상  20230920   \n",
       "179         햇빛·바람·흙 없어도, 무농약 신선 채소가 바로 식탁으로  20230923   \n",
       "\n",
       "                                               content  \n",
       "0    경남 의령군(군수 오영호)이 농식품부에서 주최한 2018년도 수직형농장 비즈니스 모...  \n",
       "1    김현수 농림축산식품부 차관이 지난달 24일 경북 상주시 ‘새봄 농업회사법인’ 스마트...  \n",
       "2    김현수 농림축산식품부 차관이 지난달 24일 경북 상주시 ‘새봄 농업회사법인’ 스마트...  \n",
       "3    김현수 농림축산식품부 차관이 지난달 24일 경북 상주시 ‘새봄 농업회사법인’ 스마트...  \n",
       "4    [세종=이데일리 이진철 기자] 농림수산식품교육문화정보원(농정원)은 오는 26일 오후...  \n",
       "..                                                 ...  \n",
       "175  [아이뉴스24 고종민 기자] 스마트팜 전문 기업 그린플러스의 자회사 그린케이팜이 농...  \n",
       "176  (왼쪽부터) 한국농업기술진흥원 안호근 원장, 농림축산식품부 강형석 기획조정실장, N...  \n",
       "177  [이데일리 최훈길 기자] 스마트팜 전문기업 그린플러스(186230)가 친환경 탄소중...  \n",
       "178  박은호 엘앤피 대표가 우수스타트업에 선정돼 경북도지사상을 수상한 뒤 기념 촬영 중이...  \n",
       "179  제주 ‘정가네 밥상’의 스마트팜. 정가네 밥상 누리집 갈무리           예로...  \n",
       "\n",
       "[180 rows x 3 columns]"
      ]
     },
     "execution_count": 20,
     "metadata": {},
     "output_type": "execute_result"
    }
   ],
   "source": [
    "df"
   ]
  },
  {
   "cell_type": "code",
   "execution_count": 21,
   "metadata": {},
   "outputs": [],
   "source": [
    "# articles_검색어_뉴스검색 시작날짜_총기사수.csv 로 파일 내보내기\n",
    "df.to_csv(f\"articles_{params['q']}_{params['sd'][:8]}_{len(result)}.csv\", index=None)"
   ]
  },
  {
   "cell_type": "markdown",
   "metadata": {},
   "source": [
    "---\n",
    "json dump 필요시"
   ]
  },
  {
   "cell_type": "code",
   "execution_count": 22,
   "metadata": {},
   "outputs": [
    {
     "name": "stdout",
     "output_type": "stream",
     "text": [
      "list -> json 파일로 내보내기 완료 urls_수직형 스마트팜_20180101_180.json\n"
     ]
    }
   ],
   "source": [
    "# list -> json 파일로 내보내기 (urls_검색어_뉴스검색 시작날짜_총기사수.json로 파일 내보내기)\n",
    "import json\n",
    "\n",
    "file_path = f\"urls_{params['q']}_{params['sd'][:8]}_{len(result)}.json\"\n",
    "with open(file_path, \"w\") as json_file:\n",
    "    json.dump(result, json_file)\n",
    "\n",
    "print(f\"list -> json 파일로 내보내기 완료 {file_path}\")"
   ]
  },
  {
   "cell_type": "code",
   "execution_count": null,
   "metadata": {},
   "outputs": [],
   "source": [
    "# json 파일 -> list 로 불러오기\n",
    "with open(file_path, \"r\") as json_file:\n",
    "    result= json.load(json_file)\n",
    "print(result)"
   ]
  },
  {
   "cell_type": "markdown",
   "metadata": {},
   "source": [
    "---"
   ]
  },
  {
   "cell_type": "markdown",
   "metadata": {},
   "source": [
    "- csv 파일 merge\n",
    "- duplicate 제거\n",
    "- csv 파일로 내보내기"
   ]
  },
  {
   "cell_type": "code",
   "execution_count": 36,
   "metadata": {},
   "outputs": [
    {
     "data": {
      "text/plain": [
       "['articles_도시형 스마트팜_20180101_327.csv',\n",
       " 'articles_도심형 스마트팜_20180101_265.csv',\n",
       " 'articles_수직형 스마트팜_20180101_180.csv',\n",
       " 'crawl_daum_url_by_search_test_1011.ipynb',\n",
       " 'crawl_daum_url_by_search_test_1012.ipynb',\n",
       " 'urls_도시형 스마트팜_20180101_327.json',\n",
       " 'urls_도심형 스마트팜_20180101_265.json',\n",
       " 'urls_수직형 스마트팜_20180101_180.json']"
      ]
     },
     "execution_count": 36,
     "metadata": {},
     "output_type": "execute_result"
    }
   ],
   "source": [
    "import os\n",
    "os.listdir()"
   ]
  },
  {
   "cell_type": "code",
   "execution_count": 35,
   "metadata": {},
   "outputs": [
    {
     "data": {
      "text/html": [
       "<div>\n",
       "<style scoped>\n",
       "    .dataframe tbody tr th:only-of-type {\n",
       "        vertical-align: middle;\n",
       "    }\n",
       "\n",
       "    .dataframe tbody tr th {\n",
       "        vertical-align: top;\n",
       "    }\n",
       "\n",
       "    .dataframe thead th {\n",
       "        text-align: right;\n",
       "    }\n",
       "</style>\n",
       "<table border=\"1\" class=\"dataframe\">\n",
       "  <thead>\n",
       "    <tr style=\"text-align: right;\">\n",
       "      <th></th>\n",
       "      <th>title</th>\n",
       "      <th>date</th>\n",
       "      <th>content</th>\n",
       "    </tr>\n",
       "  </thead>\n",
       "  <tbody>\n",
       "    <tr>\n",
       "      <th>0</th>\n",
       "      <td>전남 '솔라시도' 에 스마트 시티 본격 조성 기대감</td>\n",
       "      <td>20180111</td>\n",
       "      <td>문재인 대통령이 2018년 신년사에서 스마트 시티 조성을 언급함에 따라 전남 해남 ...</td>\n",
       "    </tr>\n",
       "    <tr>\n",
       "      <th>1</th>\n",
       "      <td>\"미래 농업경쟁력 핵심은 빅데이터\"</td>\n",
       "      <td>20180122</td>\n",
       "      <td>【 앵커멘트 】 4차 산업혁명 시대, 농업도 예외가 아니죠. 과거엔 농업하면 시설이...</td>\n",
       "    </tr>\n",
       "    <tr>\n",
       "      <th>2</th>\n",
       "      <td>\"미래 농업경쟁력 핵심은 빅데이터\"</td>\n",
       "      <td>20180123</td>\n",
       "      <td>【 앵커멘트 】 4차 산업혁명 시대, 농업도 예외가 아니죠. 과거엔 농업하면 시설이...</td>\n",
       "    </tr>\n",
       "    <tr>\n",
       "      <th>3</th>\n",
       "      <td>[스마트시티 도래②]미래투자vs역할제한..정부·업계 '시각차'</td>\n",
       "      <td>20180529</td>\n",
       "      <td>김현미 국토교통부 장관이 25일 서울 수서역 인근 스마트시티 홍보관 '더 스마티움'...</td>\n",
       "    </tr>\n",
       "    <tr>\n",
       "      <th>4</th>\n",
       "      <td>경북도 '스마트시티 경북현장적용 모델개발' 용역 최종 보고회</td>\n",
       "      <td>20180725</td>\n",
       "      <td>[이임태 기자(=안동)] 경상북도는 지난 24일 ICT융복합 기술을 활용하여 도시문...</td>\n",
       "    </tr>\n",
       "    <tr>\n",
       "      <th>...</th>\n",
       "      <td>...</td>\n",
       "      <td>...</td>\n",
       "      <td>...</td>\n",
       "    </tr>\n",
       "    <tr>\n",
       "      <th>175</th>\n",
       "      <td>그린케이팜, 농업분야 온실가스 감축사업 지원 농가 1호 선정</td>\n",
       "      <td>20230920</td>\n",
       "      <td>[아이뉴스24 고종민 기자] 스마트팜 전문 기업 그린플러스의 자회사 그린케이팜이 농...</td>\n",
       "    </tr>\n",
       "    <tr>\n",
       "      <th>176</th>\n",
       "      <td>그린케이팜, 온실가스 감축사업 지원 대상 농가 1호 선정</td>\n",
       "      <td>20230920</td>\n",
       "      <td>(왼쪽부터) 한국농업기술진흥원 안호근 원장, 농림축산식품부 강형석 기획조정실장, N...</td>\n",
       "    </tr>\n",
       "    <tr>\n",
       "      <th>177</th>\n",
       "      <td>그린케이팜, ‘온실가스 감축사업’ 농가 1호로 선정</td>\n",
       "      <td>20230920</td>\n",
       "      <td>[이데일리 최훈길 기자] 스마트팜 전문기업 그린플러스(186230)가 친환경 탄소중...</td>\n",
       "    </tr>\n",
       "    <tr>\n",
       "      <th>178</th>\n",
       "      <td>'딸기 식물공장'으로 채산성 높여..엘앤피, 경북도지사상</td>\n",
       "      <td>20230920</td>\n",
       "      <td>박은호 엘앤피 대표가 우수스타트업에 선정돼 경북도지사상을 수상한 뒤 기념 촬영 중이...</td>\n",
       "    </tr>\n",
       "    <tr>\n",
       "      <th>179</th>\n",
       "      <td>햇빛·바람·흙 없어도, 무농약 신선 채소가 바로 식탁으로</td>\n",
       "      <td>20230923</td>\n",
       "      <td>제주 ‘정가네 밥상’의 스마트팜. 정가네 밥상 누리집 갈무리           예로...</td>\n",
       "    </tr>\n",
       "  </tbody>\n",
       "</table>\n",
       "<p>772 rows × 3 columns</p>\n",
       "</div>"
      ],
      "text/plain": [
       "                                  title      date  \\\n",
       "0          전남 '솔라시도' 에 스마트 시티 본격 조성 기대감  20180111   \n",
       "1                   \"미래 농업경쟁력 핵심은 빅데이터\"  20180122   \n",
       "2                   \"미래 농업경쟁력 핵심은 빅데이터\"  20180123   \n",
       "3    [스마트시티 도래②]미래투자vs역할제한..정부·업계 '시각차'  20180529   \n",
       "4     경북도 '스마트시티 경북현장적용 모델개발' 용역 최종 보고회  20180725   \n",
       "..                                  ...       ...   \n",
       "175   그린케이팜, 농업분야 온실가스 감축사업 지원 농가 1호 선정  20230920   \n",
       "176     그린케이팜, 온실가스 감축사업 지원 대상 농가 1호 선정  20230920   \n",
       "177        그린케이팜, ‘온실가스 감축사업’ 농가 1호로 선정  20230920   \n",
       "178     '딸기 식물공장'으로 채산성 높여..엘앤피, 경북도지사상  20230920   \n",
       "179     햇빛·바람·흙 없어도, 무농약 신선 채소가 바로 식탁으로  20230923   \n",
       "\n",
       "                                               content  \n",
       "0    문재인 대통령이 2018년 신년사에서 스마트 시티 조성을 언급함에 따라 전남 해남 ...  \n",
       "1    【 앵커멘트 】 4차 산업혁명 시대, 농업도 예외가 아니죠. 과거엔 농업하면 시설이...  \n",
       "2    【 앵커멘트 】 4차 산업혁명 시대, 농업도 예외가 아니죠. 과거엔 농업하면 시설이...  \n",
       "3    김현미 국토교통부 장관이 25일 서울 수서역 인근 스마트시티 홍보관 '더 스마티움'...  \n",
       "4    [이임태 기자(=안동)] 경상북도는 지난 24일 ICT융복합 기술을 활용하여 도시문...  \n",
       "..                                                 ...  \n",
       "175  [아이뉴스24 고종민 기자] 스마트팜 전문 기업 그린플러스의 자회사 그린케이팜이 농...  \n",
       "176  (왼쪽부터) 한국농업기술진흥원 안호근 원장, 농림축산식품부 강형석 기획조정실장, N...  \n",
       "177  [이데일리 최훈길 기자] 스마트팜 전문기업 그린플러스(186230)가 친환경 탄소중...  \n",
       "178  박은호 엘앤피 대표가 우수스타트업에 선정돼 경북도지사상을 수상한 뒤 기념 촬영 중이...  \n",
       "179  제주 ‘정가네 밥상’의 스마트팜. 정가네 밥상 누리집 갈무리           예로...  \n",
       "\n",
       "[772 rows x 3 columns]"
      ]
     },
     "execution_count": 35,
     "metadata": {},
     "output_type": "execute_result"
    }
   ],
   "source": [
    "total_df=pd.DataFrame()\n",
    "for file in os.listdir()[:3]:\n",
    "    temp= pd.read_csv(file, index_col=0)\n",
    "    total_df=pd.concat([total_df, temp], axis=0)\n",
    "total_df"
   ]
  },
  {
   "cell_type": "code",
   "execution_count": 41,
   "metadata": {},
   "outputs": [],
   "source": [
    "# 중복 제거 후, articles_total_뉴스검색 시작날짜_기사수.csv\n",
    "total_df.drop_duplicates(inplace=True)\n",
    "total_df.to_csv(f\"articles_total_{params['sd'][:8]}_{len(total_df)}.csv\", index=None)"
   ]
  },
  {
   "cell_type": "markdown",
   "metadata": {},
   "source": [
    "---\n",
    "참고\n",
    "- 리팩토링하면서 삭제한 코드"
   ]
  },
  {
   "cell_type": "code",
   "execution_count": null,
   "metadata": {},
   "outputs": [],
   "source": [
    "# 날짜 형식 바꾸기 함수 생성\n",
    "def modify_date(row):\n",
    "    tmp = row.split('.')\n",
    "    year = tmp[0]\n",
    "    if len(tmp[1]) == 1:\n",
    "        month = '0' + tmp[1]\n",
    "    else:\n",
    "        month = tmp[1]\n",
    "    if len(tmp[2]) == 1:\n",
    "        day = '0' + tmp[2]\n",
    "    else:\n",
    "        day = tmp[2]\n",
    "    date = year + month + day\n",
    "    return date\n",
    "\n",
    "df['date'] = df['date'].apply(modify_date)\n",
    "\n",
    "\"\"\"\n",
    "위 함수 생성해서 apply 적용할 필요 없이 기사 날짜 가져올 때, zfill로 해결 가능함!\n",
    "''.join([data.zfill(2) for data in re.findall(r'\\d+', soup.select_one('.info_view').text)[:3]])\n",
    "\"\"\""
   ]
  }
 ],
 "metadata": {
  "kernelspec": {
   "display_name": "base",
   "language": "python",
   "name": "python3"
  },
  "language_info": {
   "codemirror_mode": {
    "name": "ipython",
    "version": 3
   },
   "file_extension": ".py",
   "mimetype": "text/x-python",
   "name": "python",
   "nbconvert_exporter": "python",
   "pygments_lexer": "ipython3",
   "version": "3.10.9"
  }
 },
 "nbformat": 4,
 "nbformat_minor": 2
}
